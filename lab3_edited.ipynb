{
 "cells": [
  {
   "cell_type": "markdown",
   "metadata": {},
   "source": [
    "# Lab 3: Forecasting Competition - Predicting Gold Price\n",
    "<img src=\"https://internationalbanker.com/wp-content/uploads/2021/12/Gold-Prices.png\" alt=\"Drawing\" style=\"width: 300px;\"/>"
   ]
  },
  {
   "cell_type": "markdown",
   "metadata": {},
   "source": [
    "## Instructions\n",
    "<hr>\n",
    "\n",
    "rubric={mechanics:5}"
   ]
  },
  {
   "cell_type": "markdown",
   "metadata": {
    "nbgrader": {
     "grade": false,
     "grade_id": "cell-4aecf0223bc592cc",
     "locked": true,
     "schema_version": 3,
     "solution": false,
     "task": false
    }
   },
   "source": [
    "You will receive marks for correctly submitting this assignment. To submit this assignment you should:\n",
    "1. Push your assignment to your GitHub repository. **Paste URL here**\n",
    "2. Upload the lab `.ipynb` file to Gradescope. \n",
    "3. Double check if all the plots are rendered properly on Gradescope and the autograder returns your score.\n",
    "4. If your notebook is too heavy to be rendered on Gradescope, please attach a `.pdf` as well."
   ]
  },
  {
   "cell_type": "markdown",
   "metadata": {},
   "source": [
    "## Imports\n",
    "<hr>\n",
    "\n",
    "You might need to `conda install yfinance`"
   ]
  },
  {
   "cell_type": "code",
   "execution_count": 1,
   "metadata": {},
   "outputs": [],
   "source": [
    "import yfinance as yf\n",
    "import numpy as np\n",
    "import pandas as pd\n",
    "import warnings\n",
    "warnings.filterwarnings('ignore')\n",
    "import matplotlib.pyplot as plt\n",
    "from statsmodels.tsa.api import ETSModel\n",
    "from statsmodels.tsa.arima.model import ARIMA\n",
    "from statsmodels.tsa.statespace.sarimax import SARIMAX\n",
    "from statsmodels.tsa.ar_model import AutoReg\n",
    "from statsmodels.tsa.stattools import adfuller\n",
    "from sklearn.metrics import mean_absolute_error\n",
    "from statsmodels.graphics.tsaplots import plot_acf, plot_pacf\n",
    "from sklearn.metrics import mean_absolute_percentage_error\n",
    "from sklearn.ensemble import RandomForestRegressor\n",
    "from sklearn.model_selection import train_test_split\n",
    "plt.style.use(\"ggplot\")\n",
    "plt.rcParams.update({\"font.size\": 14, \"axes.labelweight\": \"bold\", \"lines.linewidth\": 2})"
   ]
  },
  {
   "cell_type": "markdown",
   "metadata": {},
   "source": [
    "## Forecasting Competition\n",
    "<hr>\n",
    "\n",
    "rubric={viz:10,reasoning:60,accuracy:30}"
   ]
  },
  {
   "cell_type": "markdown",
   "metadata": {},
   "source": [
    "It's Week 3 - so we have a lighter lab this week. In fact, you can spend as little or as much time as you want on this lab! We will be having a little forecasting competition!"
   ]
  },
  {
   "cell_type": "markdown",
   "metadata": {},
   "source": [
    "### Background and Tasks"
   ]
  },
  {
   "cell_type": "markdown",
   "metadata": {},
   "source": [
    "In this week, we are going to have a live forecasting competition to predict the daily closing gold price from March 14th - March 18th. \n",
    "\n",
    "- You are provided with a real-time gold price dataset that refresh every day from Monday to Friday. \n",
    "- You are allowed to use as much or as little historical data as you want.\n",
    "- You are allowed to use any forecasting/ML/deep learning techniques\n",
    "\n",
    "Your tasks in this lab are simple:\n",
    "1. Predict the daily closing gold price from March 14th - March 18th. Store it in a dataframe called `gold_predictions`\n",
    "2. Make a plot of the training data and your predictions using any plotting library you wish. \n",
    "3. Your predictions will be evaluated 1 week after your lab's deadline.\n",
    "\n",
    "In addition, please explain:\n",
    "\n",
    "- Explain how far back did you use the historical data for training and why?\n",
    "- Explain how you pre-process the data and how you engineer your features\n",
    "- Explain which forecasting techniques did you use and why\n",
    "- How you choose your parameters\n",
    "- How did you deal with outliers?\n",
    "- How do you evaluate your model performance & model fit?\n",
    "- Reflect on the challenges that you encounter when working on this task\n"
   ]
  },
  {
   "cell_type": "markdown",
   "metadata": {},
   "source": [
    "### Dataset\n",
    "\n",
    "The dataset will refresh itself every weekday, so make sure to re-run the model on Saturday before submitting your results"
   ]
  },
  {
   "cell_type": "code",
   "execution_count": 2,
   "metadata": {},
   "outputs": [
    {
     "data": {
      "text/html": [
       "<div>\n",
       "<style scoped>\n",
       "    .dataframe tbody tr th:only-of-type {\n",
       "        vertical-align: middle;\n",
       "    }\n",
       "\n",
       "    .dataframe tbody tr th {\n",
       "        vertical-align: top;\n",
       "    }\n",
       "\n",
       "    .dataframe thead th {\n",
       "        text-align: right;\n",
       "    }\n",
       "</style>\n",
       "<table border=\"1\" class=\"dataframe\">\n",
       "  <thead>\n",
       "    <tr style=\"text-align: right;\">\n",
       "      <th></th>\n",
       "      <th>Open</th>\n",
       "      <th>High</th>\n",
       "      <th>Low</th>\n",
       "      <th>Close</th>\n",
       "      <th>Adj Close</th>\n",
       "      <th>Volume</th>\n",
       "    </tr>\n",
       "    <tr>\n",
       "      <th>Date</th>\n",
       "      <th></th>\n",
       "      <th></th>\n",
       "      <th></th>\n",
       "      <th></th>\n",
       "      <th></th>\n",
       "      <th></th>\n",
       "    </tr>\n",
       "  </thead>\n",
       "  <tbody>\n",
       "    <tr>\n",
       "      <th>2019-01-02</th>\n",
       "      <td>1286.000000</td>\n",
       "      <td>1286.000000</td>\n",
       "      <td>1277.599976</td>\n",
       "      <td>1281.000000</td>\n",
       "      <td>1281.000000</td>\n",
       "      <td>149</td>\n",
       "    </tr>\n",
       "    <tr>\n",
       "      <th>2019-01-03</th>\n",
       "      <td>1286.800049</td>\n",
       "      <td>1292.000000</td>\n",
       "      <td>1286.699951</td>\n",
       "      <td>1291.800049</td>\n",
       "      <td>1291.800049</td>\n",
       "      <td>10</td>\n",
       "    </tr>\n",
       "    <tr>\n",
       "      <th>2019-01-04</th>\n",
       "      <td>1294.199951</td>\n",
       "      <td>1294.199951</td>\n",
       "      <td>1275.300049</td>\n",
       "      <td>1282.699951</td>\n",
       "      <td>1282.699951</td>\n",
       "      <td>34</td>\n",
       "    </tr>\n",
       "    <tr>\n",
       "      <th>2019-01-07</th>\n",
       "      <td>1286.800049</td>\n",
       "      <td>1286.800049</td>\n",
       "      <td>1286.599976</td>\n",
       "      <td>1286.800049</td>\n",
       "      <td>1286.800049</td>\n",
       "      <td>2</td>\n",
       "    </tr>\n",
       "    <tr>\n",
       "      <th>2019-01-08</th>\n",
       "      <td>1280.500000</td>\n",
       "      <td>1283.199951</td>\n",
       "      <td>1278.199951</td>\n",
       "      <td>1283.199951</td>\n",
       "      <td>1283.199951</td>\n",
       "      <td>54</td>\n",
       "    </tr>\n",
       "    <tr>\n",
       "      <th>...</th>\n",
       "      <td>...</td>\n",
       "      <td>...</td>\n",
       "      <td>...</td>\n",
       "      <td>...</td>\n",
       "      <td>...</td>\n",
       "      <td>...</td>\n",
       "    </tr>\n",
       "    <tr>\n",
       "      <th>2022-03-07</th>\n",
       "      <td>1989.000000</td>\n",
       "      <td>2001.099976</td>\n",
       "      <td>1963.000000</td>\n",
       "      <td>1993.900024</td>\n",
       "      <td>1993.900024</td>\n",
       "      <td>2516</td>\n",
       "    </tr>\n",
       "    <tr>\n",
       "      <th>2022-03-08</th>\n",
       "      <td>1999.400024</td>\n",
       "      <td>2072.000000</td>\n",
       "      <td>1998.000000</td>\n",
       "      <td>2040.099976</td>\n",
       "      <td>2040.099976</td>\n",
       "      <td>1813</td>\n",
       "    </tr>\n",
       "    <tr>\n",
       "      <th>2022-03-09</th>\n",
       "      <td>2053.600098</td>\n",
       "      <td>2063.000000</td>\n",
       "      <td>1980.800049</td>\n",
       "      <td>1985.900024</td>\n",
       "      <td>1985.900024</td>\n",
       "      <td>1022</td>\n",
       "    </tr>\n",
       "    <tr>\n",
       "      <th>2022-03-10</th>\n",
       "      <td>1978.099976</td>\n",
       "      <td>2010.500000</td>\n",
       "      <td>1978.099976</td>\n",
       "      <td>1998.099976</td>\n",
       "      <td>1998.099976</td>\n",
       "      <td>670</td>\n",
       "    </tr>\n",
       "    <tr>\n",
       "      <th>2022-03-11</th>\n",
       "      <td>1985.000000</td>\n",
       "      <td>1996.000000</td>\n",
       "      <td>1959.900024</td>\n",
       "      <td>1982.699951</td>\n",
       "      <td>1982.699951</td>\n",
       "      <td>670</td>\n",
       "    </tr>\n",
       "  </tbody>\n",
       "</table>\n",
       "<p>806 rows × 6 columns</p>\n",
       "</div>"
      ],
      "text/plain": [
       "                   Open         High          Low        Close    Adj Close  \\\n",
       "Date                                                                          \n",
       "2019-01-02  1286.000000  1286.000000  1277.599976  1281.000000  1281.000000   \n",
       "2019-01-03  1286.800049  1292.000000  1286.699951  1291.800049  1291.800049   \n",
       "2019-01-04  1294.199951  1294.199951  1275.300049  1282.699951  1282.699951   \n",
       "2019-01-07  1286.800049  1286.800049  1286.599976  1286.800049  1286.800049   \n",
       "2019-01-08  1280.500000  1283.199951  1278.199951  1283.199951  1283.199951   \n",
       "...                 ...          ...          ...          ...          ...   \n",
       "2022-03-07  1989.000000  2001.099976  1963.000000  1993.900024  1993.900024   \n",
       "2022-03-08  1999.400024  2072.000000  1998.000000  2040.099976  2040.099976   \n",
       "2022-03-09  2053.600098  2063.000000  1980.800049  1985.900024  1985.900024   \n",
       "2022-03-10  1978.099976  2010.500000  1978.099976  1998.099976  1998.099976   \n",
       "2022-03-11  1985.000000  1996.000000  1959.900024  1982.699951  1982.699951   \n",
       "\n",
       "            Volume  \n",
       "Date                \n",
       "2019-01-02     149  \n",
       "2019-01-03      10  \n",
       "2019-01-04      34  \n",
       "2019-01-07       2  \n",
       "2019-01-08      54  \n",
       "...            ...  \n",
       "2022-03-07    2516  \n",
       "2022-03-08    1813  \n",
       "2022-03-09    1022  \n",
       "2022-03-10     670  \n",
       "2022-03-11     670  \n",
       "\n",
       "[806 rows x 6 columns]"
      ]
     },
     "execution_count": 2,
     "metadata": {},
     "output_type": "execute_result"
    },
    {
     "data": {
      "image/png": "[encoded data removed]",
      "text/plain": [
       "<Figure size 864x576 with 1 Axes>"
      ]
     },
     "metadata": {},
     "output_type": "display_data"
    }
   ],
   "source": [
    "gold_df = yf.download('GC=F', \n",
    "                      start='2019-01-01', # YOU CAN CHANGE THIS\n",
    "                      \n",
    "                      end='2022-03-12', # DO NOT CHANGE THIS\n",
    "                      progress=False)\n",
    "gold_df['Close'].plot(title=\"Gold daily closing price\", figsize=(12,8),ylabel='$ USD')\n",
    "gold_df"
   ]
  },
  {
   "cell_type": "markdown",
   "metadata": {},
   "source": [
    "### Evaluation"
   ]
  },
  {
   "cell_type": "markdown",
   "metadata": {},
   "source": [
    "Following in the footsteps of the [M4 time series competition](https://www.sciencedirect.com/science/article/pii/S0169207019301128), submissions will be evaluated based on the average of two metrics:\n",
    "1. Symmetric mean absolute percentage error (MAPE)\n",
    "\n",
    "$$\\text{sMAPE}=\\frac{2}{h}\\sum_{t=n+1}^{n+h}\\frac{|y_t-\\hat{y_t}|}{|y_t|+|\\hat{y_t}|}*100(\\%)$$\n",
    "\n",
    "2. Mean absolute scaled error (MASE)\n",
    "\n",
    "$$\\text{MASE}=\\frac{1}{h}\\frac{\\sum_{t=n+1}^{n+h}|y_t-\\hat{y_t}|}{\\frac{1}{n-1}\\sum_{t=2}^{n}|y_t-y_{t-1}|}$$\n",
    "\n",
    "Where $y_t$ is the value of the series at time $t$, $\\hat{y_t}$ is the forecast at time $t$, $h$ is the forecast horizon, $n$ is the number of training samples."
   ]
  },
  {
   "cell_type": "markdown",
   "metadata": {},
   "source": [
    "### Grading\n",
    "\n",
    "Accuracy: 30%\n",
    "Reasoning: 60%\n",
    "Visualizations: 10%\n",
    "\n",
    "In addition, I will also build my own model and submit it by Saturday. I am not gonna be able to see the test set until March 19th so I have no control over how the results will look like. If your model can beat mine, you get 5% bonus points"
   ]
  },
  {
   "cell_type": "markdown",
   "metadata": {},
   "source": [
    "### Prizes\n",
    "\n",
    "Based on accuracy"
   ]
  },
  {
   "cell_type": "markdown",
   "metadata": {},
   "source": [
    "- **1st**: 100% on Lab 1, Lab 2, and Lab 3.\n",
    "- **2nd**: 100% on Lab 1, Lab 2, and Lab 3.\n",
    "- **3rd**: 100% on Lab 3.\n"
   ]
  },
  {
   "cell_type": "markdown",
   "metadata": {},
   "source": [
    "## Your Code Goes Here\n",
    "<hr>"
   ]
  },
  {
   "cell_type": "markdown",
   "metadata": {},
   "source": [
    "<br><br><br>"
   ]
  },
  {
   "cell_type": "code",
   "execution_count": 3,
   "metadata": {},
   "outputs": [],
   "source": [
    "def smape(a, f):\n",
    "    return 1/len(a) * np.sum(2 * np.abs(f-a) / (np.abs(a) + np.abs(f))*100)"
   ]
  },
  {
   "cell_type": "code",
   "execution_count": 4,
   "metadata": {},
   "outputs": [],
   "source": [
    "def MASE(training_series, testing_series, prediction_series):\n",
    "    \"\"\"\n",
    "    Computes the MEAN-ABSOLUTE SCALED ERROR forcast error for univariate time series prediction.\n",
    "    \n",
    "    See \"Another look at measures of forecast accuracy\", Rob J Hyndman\n",
    "    \n",
    "    parameters:\n",
    "        training_series: the series used to train the model, 1d numpy array\n",
    "        testing_series: the test series to predict, 1d numpy array or float\n",
    "        prediction_series: the prediction of testing_series, 1d numpy array (same size as testing_series) or float\n",
    "        absolute: \"squares\" to use sum of squares and root the result, \"absolute\" to use absolute values.\n",
    "    \n",
    "    \"\"\"\n",
    "    n = training_series.shape[0]\n",
    "    d = np.abs(  np.diff( training_series) ).sum()/(n-1)\n",
    "    \n",
    "    errors = np.abs(testing_series - prediction_series )\n",
    "    return errors.mean()/d"
   ]
  },
  {
   "cell_type": "code",
   "execution_count": 5,
   "metadata": {},
   "outputs": [],
   "source": [
    "from sklearn.linear_model import LinearRegression, Ridge, Lasso\n",
    "from sklearn.preprocessing import StandardScaler\n",
    "\n",
    "Df = gold_df.copy()\n",
    "\n",
    "Df = Df.reset_index()\n",
    "Df['Year'] = Df['Date'].apply(lambda time: time.year)\n",
    "Df['Month'] = Df['Date'].apply(lambda time: time.month)\n",
    "Df['Day'] = Df['Date'].apply(lambda time: time.day)\n",
    "Df[\"High_Low\"] = Df[\"High\"] - Df[\"Low\"]\n",
    "Df[\"Open_High\"] = Df[\"Open\"] - Df[\"High\"]\n",
    "Df[\"Low_Open\"] = Df[\"Low\"] - Df[\"Open\"]\n",
    "Df = Df.set_index('Date')\n",
    "\n",
    "Df['S_2'] = Df['Close'].rolling(window=2).mean()\n",
    "Df['S_7'] = Df['Close'].rolling(window=7).mean()\n",
    "Df['S_14'] = Df['Close'].rolling(window=14).mean()\n",
    "Df['next_day_price'] = Df['Close'].shift(-1)\n",
    "Df = Df.dropna()"
   ]
  },
  {
   "cell_type": "code",
   "execution_count": 6,
   "metadata": {},
   "outputs": [],
   "source": [
    "X = Df[[\"High_Low\", \"Open_High\", \"Low_Open\",'S_2', 'S_7', 'S_14', 'Year', 'Month', 'Day']]\n",
    "y = Df['next_day_price']\n",
    "\n",
    "t = .8\n",
    "t = int(t*len(Df))\n",
    "# Train dataset\n",
    "X_train = X[:t]\n",
    "y_train = y[:t]\n",
    "# Test dataset\n",
    "X_test = X[t:]\n",
    "y_test = y[t:]"
   ]
  },
  {
   "cell_type": "markdown",
   "metadata": {},
   "source": [
    "## Lasso Model"
   ]
  },
  {
   "cell_type": "code",
   "execution_count": 7,
   "metadata": {},
   "outputs": [],
   "source": [
    "model = Lasso(alpha = 15)\n",
    "model_fit = model.fit(X_train, y_train)\n",
    "predicted_price = model_fit.predict(X_test)\n",
    "predicted_price = pd.DataFrame(\n",
    "    predicted_price, index=y_test.index, columns=['price'])"
   ]
  },
  {
   "cell_type": "markdown",
   "metadata": {},
   "source": [
    "**Scores**"
   ]
  },
  {
   "cell_type": "code",
   "execution_count": 8,
   "metadata": {},
   "outputs": [
    {
     "data": {
      "text/plain": [
       "0.7421228779528914"
      ]
     },
     "execution_count": 8,
     "metadata": {},
     "output_type": "execute_result"
    }
   ],
   "source": [
    "smape(pd.DataFrame(y_test)['next_day_price'], predicted_price['price'])"
   ]
  },
  {
   "cell_type": "code",
   "execution_count": 9,
   "metadata": {},
   "outputs": [
    {
     "data": {
      "text/plain": [
       "1.113608179120353"
      ]
     },
     "execution_count": 9,
     "metadata": {},
     "output_type": "execute_result"
    }
   ],
   "source": [
    "MASE(pd.DataFrame(y_train)['next_day_price'], pd.DataFrame(y_test)['next_day_price'], predicted_price['price'])"
   ]
  },
  {
   "cell_type": "markdown",
   "metadata": {},
   "source": [
    "**Function to calculate future values using recursive method**"
   ]
  },
  {
   "cell_type": "code",
   "execution_count": 10,
   "metadata": {},
   "outputs": [],
   "source": [
    "def recursive_forecast(input_data, model, n=20, responses=1):\n",
    "    forecast = np.empty((n, responses))  # where we'll store our forecasts\n",
    "    for i, n in enumerate(range(n)):     # loop for making forecasts one at a time\n",
    "        forecast[i] = model.predict(input_data.reshape(1, -1))  # model forecast\n",
    "        input_data = np.append(forecast[i], input_data[:-responses])  # append forecast to input data for next forecast\n",
    "    return forecast.reshape((-1, responses))"
   ]
  },
  {
   "cell_type": "code",
   "execution_count": 11,
   "metadata": {},
   "outputs": [],
   "source": [
    "def create_forecast_index(start, horizon=30, freq=\"D\"):\n",
    "    return pd.date_range(start + pd.tseries.frequencies.to_offset(freq), periods=horizon, freq=freq, name=\"Time\")"
   ]
  },
  {
   "cell_type": "code",
   "execution_count": 12,
   "metadata": {},
   "outputs": [],
   "source": [
    "Df_2 = Df[[\"High_Low\", \"Open_High\", \"Low_Open\",'S_2', 'S_7', 'S_14', 'Year', 'Month', 'Day']]\n",
    "\n",
    "# Forecast variables\n",
    "forecast_index = create_forecast_index(Df_2.index[-1], 8)\n",
    "# Recursive forecast\n",
    "last_observations = Df_2.iloc[-1, :].to_numpy()\n",
    "recursive = pd.DataFrame({\"Close\": recursive_forecast(last_observations, model, n=len(forecast_index)).ravel(),\n",
    "                          \"Label\": \"Recursive\"},\n",
    "                          index=forecast_index)"
   ]
  },
  {
   "cell_type": "markdown",
   "metadata": {},
   "source": [
    "**Forecasted values**"
   ]
  },
  {
   "cell_type": "code",
   "execution_count": 13,
   "metadata": {},
   "outputs": [
    {
     "data": {
      "text/html": [
       "<div>\n",
       "<style scoped>\n",
       "    .dataframe tbody tr th:only-of-type {\n",
       "        vertical-align: middle;\n",
       "    }\n",
       "\n",
       "    .dataframe tbody tr th {\n",
       "        vertical-align: top;\n",
       "    }\n",
       "\n",
       "    .dataframe thead th {\n",
       "        text-align: right;\n",
       "    }\n",
       "</style>\n",
       "<table border=\"1\" class=\"dataframe\">\n",
       "  <thead>\n",
       "    <tr style=\"text-align: right;\">\n",
       "      <th></th>\n",
       "      <th>Close</th>\n",
       "    </tr>\n",
       "    <tr>\n",
       "      <th>Time</th>\n",
       "      <th></th>\n",
       "    </tr>\n",
       "  </thead>\n",
       "  <tbody>\n",
       "    <tr>\n",
       "      <th>2022-03-14</th>\n",
       "      <td>526.364002</td>\n",
       "    </tr>\n",
       "    <tr>\n",
       "      <th>2022-03-15</th>\n",
       "      <td>2269.322988</td>\n",
       "    </tr>\n",
       "    <tr>\n",
       "      <th>2022-03-16</th>\n",
       "      <td>-356.231952</td>\n",
       "    </tr>\n",
       "    <tr>\n",
       "      <th>2022-03-17</th>\n",
       "      <td>-1456.482547</td>\n",
       "    </tr>\n",
       "    <tr>\n",
       "      <th>2022-03-18</th>\n",
       "      <td>1223.472439</td>\n",
       "    </tr>\n",
       "  </tbody>\n",
       "</table>\n",
       "</div>"
      ],
      "text/plain": [
       "                  Close\n",
       "Time                   \n",
       "2022-03-14   526.364002\n",
       "2022-03-15  2269.322988\n",
       "2022-03-16  -356.231952\n",
       "2022-03-17 -1456.482547\n",
       "2022-03-18  1223.472439"
      ]
     },
     "execution_count": 13,
     "metadata": {},
     "output_type": "execute_result"
    }
   ],
   "source": [
    "gold_predictions = recursive[['Close']].tail(5)\n",
    "gold_predictions"
   ]
  },
  {
   "cell_type": "markdown",
   "metadata": {},
   "source": [
    "<br><br>"
   ]
  },
  {
   "cell_type": "markdown",
   "metadata": {},
   "source": [
    "## FB Prophet"
   ]
  },
  {
   "cell_type": "markdown",
   "metadata": {},
   "source": [
    "**Model**"
   ]
  },
  {
   "cell_type": "markdown",
   "metadata": {},
   "source": [
    "pip install prophet"
   ]
  },
  {
   "cell_type": "code",
   "execution_count": 14,
   "metadata": {},
   "outputs": [
    {
     "name": "stderr",
     "output_type": "stream",
     "text": [
      "INFO:prophet:Disabling daily seasonality. Run prophet with daily_seasonality=True to override this.\n"
     ]
    },
    {
     "name": "stdout",
     "output_type": "stream",
     "text": [
      "Initial log joint probability = -3.47109\n",
      "    Iter      log prob        ||dx||      ||grad||       alpha      alpha0  # evals  Notes \n",
      "      99       2643.02     0.0373585       429.821           1           1      120   \n",
      "    Iter      log prob        ||dx||      ||grad||       alpha      alpha0  # evals  Notes \n",
      "     199       2684.79     0.0100415       240.463           1           1      238   \n",
      "    Iter      log prob        ||dx||      ||grad||       alpha      alpha0  # evals  Notes \n",
      "     299       2699.27    0.00569618        229.98           1           1      350   \n",
      "    Iter      log prob        ||dx||      ||grad||       alpha      alpha0  # evals  Notes \n",
      "     399       2702.83   0.000513515       210.669      0.3529           1      472   \n",
      "    Iter      log prob        ||dx||      ||grad||       alpha      alpha0  # evals  Notes \n",
      "     481       2705.27   7.90593e-05       225.192   1.228e-07       0.001      622  LS failed, Hessian reset \n",
      "     499       2706.25   0.000750069       157.934           1           1      643   \n",
      "    Iter      log prob        ||dx||      ||grad||       alpha      alpha0  # evals  Notes \n",
      "     599       2707.63    0.00626253       285.724           1           1      760   \n",
      "    Iter      log prob        ||dx||      ||grad||       alpha      alpha0  # evals  Notes \n",
      "     600       2707.63   3.46202e-05       108.224   1.212e-07       0.001      809  LS failed, Hessian reset \n",
      "     699       2708.02   6.77437e-05       59.9414           1           1      932   \n",
      "    Iter      log prob        ||dx||      ||grad||       alpha      alpha0  # evals  Notes \n",
      "     781       2709.07   2.59742e-05       115.792   2.862e-07       0.001     1113  LS failed, Hessian reset \n",
      "     799       2709.42    0.00161109       227.888           1           1     1133   \n",
      "    Iter      log prob        ||dx||      ||grad||       alpha      alpha0  # evals  Notes \n",
      "     899       2710.56     0.0047171       175.561           1           1     1263   \n",
      "    Iter      log prob        ||dx||      ||grad||       alpha      alpha0  # evals  Notes \n",
      "     999          2711   0.000159269       78.4688      0.1242           1     1391   \n",
      "    Iter      log prob        ||dx||      ||grad||       alpha      alpha0  # evals  Notes \n",
      "    1000          2711   4.53986e-05       166.642   5.786e-07       0.001     1439  LS failed, Hessian reset \n",
      "    1099        2711.3    0.00142074       216.558           1           1     1557   \n",
      "    Iter      log prob        ||dx||      ||grad||       alpha      alpha0  # evals  Notes \n",
      "    1199       2712.03   0.000720499       138.373      0.3218      0.7827     1687   \n",
      "    Iter      log prob        ||dx||      ||grad||       alpha      alpha0  # evals  Notes \n",
      "    1227       2713.28   0.000201937       487.285   6.416e-07       0.001     1771  LS failed, Hessian reset \n",
      "    1299       2714.51   0.000501685        63.972           1           1     1867   \n",
      "    Iter      log prob        ||dx||      ||grad||       alpha      alpha0  # evals  Notes \n",
      "    1399        2714.8   0.000297266       81.1772           1           1     1987   \n",
      "    Iter      log prob        ||dx||      ||grad||       alpha      alpha0  # evals  Notes \n",
      "    1478       2714.91   1.55386e-05       77.7647   1.872e-07       0.001     2129  LS failed, Hessian reset \n",
      "    1497       2714.92   3.81241e-07       63.5057           1           1     2153   \n",
      "Optimization terminated normally: \n",
      "  Convergence detected: relative gradient magnitude is below tolerance\n"
     ]
    },
    {
     "data": {
      "text/html": [
       "<div>\n",
       "<style scoped>\n",
       "    .dataframe tbody tr th:only-of-type {\n",
       "        vertical-align: middle;\n",
       "    }\n",
       "\n",
       "    .dataframe tbody tr th {\n",
       "        vertical-align: top;\n",
       "    }\n",
       "\n",
       "    .dataframe thead th {\n",
       "        text-align: right;\n",
       "    }\n",
       "</style>\n",
       "<table border=\"1\" class=\"dataframe\">\n",
       "  <thead>\n",
       "    <tr style=\"text-align: right;\">\n",
       "      <th></th>\n",
       "      <th>Date</th>\n",
       "      <th>Close</th>\n",
       "    </tr>\n",
       "  </thead>\n",
       "  <tbody>\n",
       "    <tr>\n",
       "      <th>795</th>\n",
       "      <td>2022-03-14</td>\n",
       "      <td>1876.771732</td>\n",
       "    </tr>\n",
       "    <tr>\n",
       "      <th>796</th>\n",
       "      <td>2022-03-15</td>\n",
       "      <td>1875.605990</td>\n",
       "    </tr>\n",
       "    <tr>\n",
       "      <th>797</th>\n",
       "      <td>2022-03-16</td>\n",
       "      <td>1873.521995</td>\n",
       "    </tr>\n",
       "    <tr>\n",
       "      <th>798</th>\n",
       "      <td>2022-03-17</td>\n",
       "      <td>1871.970748</td>\n",
       "    </tr>\n",
       "    <tr>\n",
       "      <th>799</th>\n",
       "      <td>2022-03-18</td>\n",
       "      <td>1868.759533</td>\n",
       "    </tr>\n",
       "  </tbody>\n",
       "</table>\n",
       "</div>"
      ],
      "text/plain": [
       "          Date        Close\n",
       "795 2022-03-14  1876.771732\n",
       "796 2022-03-15  1875.605990\n",
       "797 2022-03-16  1873.521995\n",
       "798 2022-03-17  1871.970748\n",
       "799 2022-03-18  1868.759533"
      ]
     },
     "execution_count": 14,
     "metadata": {},
     "output_type": "execute_result"
    }
   ],
   "source": [
    "from prophet import Prophet\n",
    "\n",
    "m = Prophet(interval_width=0.95)\n",
    "\n",
    "data = Df.reset_index()\n",
    "data = data[['Date', 'Close']].rename(columns = {'Date': 'ds', 'Close': 'y'})\n",
    "m.fit(data)\n",
    "future = m.make_future_dataframe(periods=8)\n",
    "forecast = m.predict(future) \n",
    "forecast_df = forecast[['ds', 'yhat']].rename(columns = {'ds': 'Date', 'yhat': 'Close'})\n",
    "gold_predictions = forecast_df.tail(5)\n",
    "gold_predictions"
   ]
  },
  {
   "cell_type": "markdown",
   "metadata": {},
   "source": [
    "**Scores**"
   ]
  },
  {
   "cell_type": "code",
   "execution_count": 15,
   "metadata": {},
   "outputs": [
    {
     "data": {
      "text/plain": [
       "0.0"
      ]
     },
     "execution_count": 15,
     "metadata": {},
     "output_type": "execute_result"
    }
   ],
   "source": [
    "interim_forecast = forecast_df[(forecast_df['Date'] > '2021-07-26') & (forecast_df['Date'] < '2022-03-11')]\n",
    "\n",
    "smape(interim_forecast['Close'], predicted_price['price'])"
   ]
  },
  {
   "cell_type": "code",
   "execution_count": 16,
   "metadata": {},
   "outputs": [
    {
     "data": {
      "text/plain": [
       "6.257738705946863"
      ]
     },
     "execution_count": 16,
     "metadata": {},
     "output_type": "execute_result"
    }
   ],
   "source": [
    "MASE(interim_forecast['Close'], pd.DataFrame(y_test)['next_day_price'], predicted_price['price'])"
   ]
  }
 ],
 "metadata": {
  "accelerator": "GPU",
  "colab": {
   "name": "lab4.ipynb",
   "provenance": [],
   "version": "0.3.2"
  },
  "kernelspec": {
   "display_name": "Python [conda env:mds574]",
   "language": "python",
   "name": "conda-env-mds574-py"
  },
  "language_info": {
   "codemirror_mode": {
    "name": "ipython",
    "version": 3
   },
   "file_extension": ".py",
   "mimetype": "text/x-python",
   "name": "python",
   "nbconvert_exporter": "python",
   "pygments_lexer": "ipython3",
   "version": "3.9.10"
  },
  "toc": {
   "base_numbering": 1,
   "nav_menu": {},
   "number_sections": false,
   "sideBar": true,
   "skip_h1_title": true,
   "title_cell": "Table of Contents",
   "title_sidebar": "Contents",
   "toc_cell": true,
   "toc_position": {},
   "toc_section_display": true,
   "toc_window_display": true
  }
 },
 "nbformat": 4,
 "nbformat_minor": 4
}
