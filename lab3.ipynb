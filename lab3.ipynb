{
 "cells": [
  {
   "cell_type": "markdown",
   "metadata": {},
   "source": [
    "# Lab 3: Forecasting Competition - Predicting Gold Price\n",
    "<img src=\"https://internationalbanker.com/wp-content/uploads/2021/12/Gold-Prices.png\" alt=\"Drawing\" style=\"width: 300px;\"/>"
   ]
  },
  {
   "cell_type": "markdown",
   "metadata": {},
   "source": [
    "## Instructions\n",
    "<hr>\n",
    "\n",
    "rubric={mechanics:5}"
   ]
  },
  {
   "cell_type": "markdown",
   "metadata": {
    "nbgrader": {
     "grade": false,
     "grade_id": "cell-4aecf0223bc592cc",
     "locked": true,
     "schema_version": 3,
     "solution": false,
     "task": false
    }
   },
   "source": [
    "You will receive marks for correctly submitting this assignment. To submit this assignment you should:\n",
    "1. Push your assignment to your GitHub repository. **Paste URL here**\n",
    "2. Upload the lab `.ipynb` file to Gradescope. \n",
    "3. Double check if all the plots are rendered properly on Gradescope and the autograder returns your score.\n",
    "4. If your notebook is too heavy to be rendered on Gradescope, please attach a `.pdf` as well."
   ]
  },
  {
   "cell_type": "markdown",
   "metadata": {},
   "source": [
    "## Imports\n",
    "<hr>\n",
    "\n",
    "You might need to `conda install yfinance`"
   ]
  },
  {
   "cell_type": "code",
   "execution_count": 131,
   "metadata": {},
   "outputs": [],
   "source": [
    "import yfinance as yf\n",
    "import numpy as np\n",
    "import pandas as pd\n",
    "import warnings\n",
    "warnings.filterwarnings('ignore')\n",
    "import matplotlib.pyplot as plt\n",
    "from statsmodels.tsa.api import ETSModel\n",
    "from statsmodels.tsa.arima.model import ARIMA\n",
    "from statsmodels.tsa.statespace.sarimax import SARIMAX\n",
    "from statsmodels.tsa.ar_model import AutoReg\n",
    "from statsmodels.tsa.stattools import adfuller\n",
    "from sklearn.metrics import mean_absolute_error\n",
    "from statsmodels.graphics.tsaplots import plot_acf, plot_pacf\n",
    "from sklearn.metrics import mean_absolute_percentage_error\n",
    "from sklearn.ensemble import RandomForestRegressor\n",
    "from sklearn.model_selection import train_test_split\n",
    "plt.style.use(\"ggplot\")\n",
    "plt.rcParams.update({\"font.size\": 14, \"axes.labelweight\": \"bold\", \"lines.linewidth\": 2})"
   ]
  },
  {
   "cell_type": "markdown",
   "metadata": {},
   "source": [
    "## Forecasting Competition\n",
    "<hr>\n",
    "\n",
    "rubric={viz:10,reasoning:60,accuracy:30}"
   ]
  },
  {
   "cell_type": "markdown",
   "metadata": {},
   "source": [
    "It's Week 3 - so we have a lighter lab this week. In fact, you can spend as little or as much time as you want on this lab! We will be having a little forecasting competition!"
   ]
  },
  {
   "cell_type": "markdown",
   "metadata": {},
   "source": [
    "### Background and Tasks"
   ]
  },
  {
   "cell_type": "markdown",
   "metadata": {},
   "source": [
    "In this week, we are going to have a live forecasting competition to predict the daily closing gold price from March 14th - March 18th. \n",
    "\n",
    "- You are provided with a real-time gold price dataset that refresh every day from Monday to Friday. \n",
    "- You are allowed to use as much or as little historical data as you want.\n",
    "- You are allowed to use any forecasting/ML/deep learning techniques\n",
    "\n",
    "Your tasks in this lab are simple:\n",
    "1. Predict the daily closing gold price from March 14th - March 18th. Store it in a dataframe called `gold_predictions`\n",
    "2. Make a plot of the training data and your predictions using any plotting library you wish. \n",
    "3. Your predictions will be evaluated 1 week after your lab's deadline.\n",
    "\n",
    "In addition, please explain:\n",
    "\n",
    "- Explain how far back did you use the historical data for training and why?\n",
    "- Explain how you pre-process the data and how you engineer your features\n",
    "- Explain which forecasting techniques did you use and why\n",
    "- How you choose your parameters\n",
    "- How did you deal with outliers?\n",
    "- How do you evaluate your model performance & model fit?\n",
    "- Reflect on the challenges that you encounter when working on this task\n"
   ]
  },
  {
   "cell_type": "markdown",
   "metadata": {},
   "source": [
    "### Dataset\n",
    "\n",
    "The dataset will refresh itself every weekday, so make sure to re-run the model on Saturday before submitting your results"
   ]
  },
  {
   "cell_type": "code",
   "execution_count": 2,
   "metadata": {},
   "outputs": [
    {
     "data": {
      "text/html": [
       "<div>\n",
       "<style scoped>\n",
       "    .dataframe tbody tr th:only-of-type {\n",
       "        vertical-align: middle;\n",
       "    }\n",
       "\n",
       "    .dataframe tbody tr th {\n",
       "        vertical-align: top;\n",
       "    }\n",
       "\n",
       "    .dataframe thead th {\n",
       "        text-align: right;\n",
       "    }\n",
       "</style>\n",
       "<table border=\"1\" class=\"dataframe\">\n",
       "  <thead>\n",
       "    <tr style=\"text-align: right;\">\n",
       "      <th></th>\n",
       "      <th>Open</th>\n",
       "      <th>High</th>\n",
       "      <th>Low</th>\n",
       "      <th>Close</th>\n",
       "      <th>Adj Close</th>\n",
       "      <th>Volume</th>\n",
       "    </tr>\n",
       "    <tr>\n",
       "      <th>Date</th>\n",
       "      <th></th>\n",
       "      <th></th>\n",
       "      <th></th>\n",
       "      <th></th>\n",
       "      <th></th>\n",
       "      <th></th>\n",
       "    </tr>\n",
       "  </thead>\n",
       "  <tbody>\n",
       "    <tr>\n",
       "      <th>2019-01-02</th>\n",
       "      <td>1286.000000</td>\n",
       "      <td>1286.000000</td>\n",
       "      <td>1277.599976</td>\n",
       "      <td>1281.000000</td>\n",
       "      <td>1281.000000</td>\n",
       "      <td>149</td>\n",
       "    </tr>\n",
       "    <tr>\n",
       "      <th>2019-01-03</th>\n",
       "      <td>1286.800049</td>\n",
       "      <td>1292.000000</td>\n",
       "      <td>1286.699951</td>\n",
       "      <td>1291.800049</td>\n",
       "      <td>1291.800049</td>\n",
       "      <td>10</td>\n",
       "    </tr>\n",
       "    <tr>\n",
       "      <th>2019-01-04</th>\n",
       "      <td>1294.199951</td>\n",
       "      <td>1294.199951</td>\n",
       "      <td>1275.300049</td>\n",
       "      <td>1282.699951</td>\n",
       "      <td>1282.699951</td>\n",
       "      <td>34</td>\n",
       "    </tr>\n",
       "    <tr>\n",
       "      <th>2019-01-07</th>\n",
       "      <td>1286.800049</td>\n",
       "      <td>1286.800049</td>\n",
       "      <td>1286.599976</td>\n",
       "      <td>1286.800049</td>\n",
       "      <td>1286.800049</td>\n",
       "      <td>2</td>\n",
       "    </tr>\n",
       "    <tr>\n",
       "      <th>2019-01-08</th>\n",
       "      <td>1280.500000</td>\n",
       "      <td>1283.199951</td>\n",
       "      <td>1278.199951</td>\n",
       "      <td>1283.199951</td>\n",
       "      <td>1283.199951</td>\n",
       "      <td>54</td>\n",
       "    </tr>\n",
       "    <tr>\n",
       "      <th>...</th>\n",
       "      <td>...</td>\n",
       "      <td>...</td>\n",
       "      <td>...</td>\n",
       "      <td>...</td>\n",
       "      <td>...</td>\n",
       "      <td>...</td>\n",
       "    </tr>\n",
       "    <tr>\n",
       "      <th>2022-03-04</th>\n",
       "      <td>1937.000000</td>\n",
       "      <td>1970.900024</td>\n",
       "      <td>1935.599976</td>\n",
       "      <td>1965.099976</td>\n",
       "      <td>1965.099976</td>\n",
       "      <td>47</td>\n",
       "    </tr>\n",
       "    <tr>\n",
       "      <th>2022-03-07</th>\n",
       "      <td>1989.000000</td>\n",
       "      <td>2001.099976</td>\n",
       "      <td>1963.000000</td>\n",
       "      <td>1993.900024</td>\n",
       "      <td>1993.900024</td>\n",
       "      <td>2516</td>\n",
       "    </tr>\n",
       "    <tr>\n",
       "      <th>2022-03-08</th>\n",
       "      <td>1999.400024</td>\n",
       "      <td>2072.000000</td>\n",
       "      <td>1998.000000</td>\n",
       "      <td>2040.099976</td>\n",
       "      <td>2040.099976</td>\n",
       "      <td>1813</td>\n",
       "    </tr>\n",
       "    <tr>\n",
       "      <th>2022-03-09</th>\n",
       "      <td>2053.600098</td>\n",
       "      <td>2063.000000</td>\n",
       "      <td>1980.800049</td>\n",
       "      <td>1985.900024</td>\n",
       "      <td>1985.900024</td>\n",
       "      <td>1813</td>\n",
       "    </tr>\n",
       "    <tr>\n",
       "      <th>2022-03-10</th>\n",
       "      <td>1992.800049</td>\n",
       "      <td>1998.400024</td>\n",
       "      <td>1975.000000</td>\n",
       "      <td>1987.300049</td>\n",
       "      <td>1987.300049</td>\n",
       "      <td>43810</td>\n",
       "    </tr>\n",
       "  </tbody>\n",
       "</table>\n",
       "<p>805 rows × 6 columns</p>\n",
       "</div>"
      ],
      "text/plain": [
       "                   Open         High          Low        Close    Adj Close  \\\n",
       "Date                                                                          \n",
       "2019-01-02  1286.000000  1286.000000  1277.599976  1281.000000  1281.000000   \n",
       "2019-01-03  1286.800049  1292.000000  1286.699951  1291.800049  1291.800049   \n",
       "2019-01-04  1294.199951  1294.199951  1275.300049  1282.699951  1282.699951   \n",
       "2019-01-07  1286.800049  1286.800049  1286.599976  1286.800049  1286.800049   \n",
       "2019-01-08  1280.500000  1283.199951  1278.199951  1283.199951  1283.199951   \n",
       "...                 ...          ...          ...          ...          ...   \n",
       "2022-03-04  1937.000000  1970.900024  1935.599976  1965.099976  1965.099976   \n",
       "2022-03-07  1989.000000  2001.099976  1963.000000  1993.900024  1993.900024   \n",
       "2022-03-08  1999.400024  2072.000000  1998.000000  2040.099976  2040.099976   \n",
       "2022-03-09  2053.600098  2063.000000  1980.800049  1985.900024  1985.900024   \n",
       "2022-03-10  1992.800049  1998.400024  1975.000000  1987.300049  1987.300049   \n",
       "\n",
       "            Volume  \n",
       "Date                \n",
       "2019-01-02     149  \n",
       "2019-01-03      10  \n",
       "2019-01-04      34  \n",
       "2019-01-07       2  \n",
       "2019-01-08      54  \n",
       "...            ...  \n",
       "2022-03-04      47  \n",
       "2022-03-07    2516  \n",
       "2022-03-08    1813  \n",
       "2022-03-09    1813  \n",
       "2022-03-10   43810  \n",
       "\n",
       "[805 rows x 6 columns]"
      ]
     },
     "execution_count": 2,
     "metadata": {},
     "output_type": "execute_result"
    },
    {
     "data": {
      "image/png": "[encoded data removed]",
      "text/plain": [
       "<Figure size 864x576 with 1 Axes>"
      ]
     },
     "metadata": {},
     "output_type": "display_data"
    }
   ],
   "source": [
    "gold_df = yf.download('GC=F', \n",
    "                      start='2019-01-01', # YOU CAN CHANGE THIS\n",
    "                      \n",
    "                      end='2022-03-12', # DO NOT CHANGE THIS\n",
    "                      progress=False)\n",
    "gold_df['Close'].plot(title=\"Gold daily closing price\", figsize=(12,8),ylabel='$ USD')\n",
    "gold_df"
   ]
  },
  {
   "cell_type": "code",
   "execution_count": 3,
   "metadata": {},
   "outputs": [
    {
     "data": {
      "text/html": [
       "<div>\n",
       "<style scoped>\n",
       "    .dataframe tbody tr th:only-of-type {\n",
       "        vertical-align: middle;\n",
       "    }\n",
       "\n",
       "    .dataframe tbody tr th {\n",
       "        vertical-align: top;\n",
       "    }\n",
       "\n",
       "    .dataframe thead th {\n",
       "        text-align: right;\n",
       "    }\n",
       "</style>\n",
       "<table border=\"1\" class=\"dataframe\">\n",
       "  <thead>\n",
       "    <tr style=\"text-align: right;\">\n",
       "      <th></th>\n",
       "      <th>Open</th>\n",
       "      <th>High</th>\n",
       "      <th>Low</th>\n",
       "      <th>Close</th>\n",
       "      <th>Adj Close</th>\n",
       "      <th>Volume</th>\n",
       "    </tr>\n",
       "    <tr>\n",
       "      <th>Date</th>\n",
       "      <th></th>\n",
       "      <th></th>\n",
       "      <th></th>\n",
       "      <th></th>\n",
       "      <th></th>\n",
       "      <th></th>\n",
       "    </tr>\n",
       "  </thead>\n",
       "  <tbody>\n",
       "    <tr>\n",
       "      <th>2019-01-02</th>\n",
       "      <td>1286.000000</td>\n",
       "      <td>1286.000000</td>\n",
       "      <td>1277.599976</td>\n",
       "      <td>1281.000000</td>\n",
       "      <td>1281.000000</td>\n",
       "      <td>149</td>\n",
       "    </tr>\n",
       "    <tr>\n",
       "      <th>2019-01-03</th>\n",
       "      <td>1286.800049</td>\n",
       "      <td>1292.000000</td>\n",
       "      <td>1286.699951</td>\n",
       "      <td>1291.800049</td>\n",
       "      <td>1291.800049</td>\n",
       "      <td>10</td>\n",
       "    </tr>\n",
       "    <tr>\n",
       "      <th>2019-01-04</th>\n",
       "      <td>1294.199951</td>\n",
       "      <td>1294.199951</td>\n",
       "      <td>1275.300049</td>\n",
       "      <td>1282.699951</td>\n",
       "      <td>1282.699951</td>\n",
       "      <td>34</td>\n",
       "    </tr>\n",
       "    <tr>\n",
       "      <th>2019-01-07</th>\n",
       "      <td>1286.800049</td>\n",
       "      <td>1286.800049</td>\n",
       "      <td>1286.599976</td>\n",
       "      <td>1286.800049</td>\n",
       "      <td>1286.800049</td>\n",
       "      <td>2</td>\n",
       "    </tr>\n",
       "    <tr>\n",
       "      <th>2019-01-08</th>\n",
       "      <td>1280.500000</td>\n",
       "      <td>1283.199951</td>\n",
       "      <td>1278.199951</td>\n",
       "      <td>1283.199951</td>\n",
       "      <td>1283.199951</td>\n",
       "      <td>54</td>\n",
       "    </tr>\n",
       "    <tr>\n",
       "      <th>...</th>\n",
       "      <td>...</td>\n",
       "      <td>...</td>\n",
       "      <td>...</td>\n",
       "      <td>...</td>\n",
       "      <td>...</td>\n",
       "      <td>...</td>\n",
       "    </tr>\n",
       "    <tr>\n",
       "      <th>2022-03-04</th>\n",
       "      <td>1937.000000</td>\n",
       "      <td>1970.900024</td>\n",
       "      <td>1935.599976</td>\n",
       "      <td>1965.099976</td>\n",
       "      <td>1965.099976</td>\n",
       "      <td>47</td>\n",
       "    </tr>\n",
       "    <tr>\n",
       "      <th>2022-03-07</th>\n",
       "      <td>1989.000000</td>\n",
       "      <td>2001.099976</td>\n",
       "      <td>1963.000000</td>\n",
       "      <td>1993.900024</td>\n",
       "      <td>1993.900024</td>\n",
       "      <td>2516</td>\n",
       "    </tr>\n",
       "    <tr>\n",
       "      <th>2022-03-08</th>\n",
       "      <td>1999.400024</td>\n",
       "      <td>2072.000000</td>\n",
       "      <td>1998.000000</td>\n",
       "      <td>2040.099976</td>\n",
       "      <td>2040.099976</td>\n",
       "      <td>1813</td>\n",
       "    </tr>\n",
       "    <tr>\n",
       "      <th>2022-03-09</th>\n",
       "      <td>2053.600098</td>\n",
       "      <td>2063.000000</td>\n",
       "      <td>1980.800049</td>\n",
       "      <td>1985.900024</td>\n",
       "      <td>1985.900024</td>\n",
       "      <td>1813</td>\n",
       "    </tr>\n",
       "    <tr>\n",
       "      <th>2022-03-10</th>\n",
       "      <td>1992.800049</td>\n",
       "      <td>1998.400024</td>\n",
       "      <td>1975.000000</td>\n",
       "      <td>1987.300049</td>\n",
       "      <td>1987.300049</td>\n",
       "      <td>43810</td>\n",
       "    </tr>\n",
       "  </tbody>\n",
       "</table>\n",
       "<p>805 rows × 6 columns</p>\n",
       "</div>"
      ],
      "text/plain": [
       "                   Open         High          Low        Close    Adj Close  \\\n",
       "Date                                                                          \n",
       "2019-01-02  1286.000000  1286.000000  1277.599976  1281.000000  1281.000000   \n",
       "2019-01-03  1286.800049  1292.000000  1286.699951  1291.800049  1291.800049   \n",
       "2019-01-04  1294.199951  1294.199951  1275.300049  1282.699951  1282.699951   \n",
       "2019-01-07  1286.800049  1286.800049  1286.599976  1286.800049  1286.800049   \n",
       "2019-01-08  1280.500000  1283.199951  1278.199951  1283.199951  1283.199951   \n",
       "...                 ...          ...          ...          ...          ...   \n",
       "2022-03-04  1937.000000  1970.900024  1935.599976  1965.099976  1965.099976   \n",
       "2022-03-07  1989.000000  2001.099976  1963.000000  1993.900024  1993.900024   \n",
       "2022-03-08  1999.400024  2072.000000  1998.000000  2040.099976  2040.099976   \n",
       "2022-03-09  2053.600098  2063.000000  1980.800049  1985.900024  1985.900024   \n",
       "2022-03-10  1992.800049  1998.400024  1975.000000  1987.300049  1987.300049   \n",
       "\n",
       "            Volume  \n",
       "Date                \n",
       "2019-01-02     149  \n",
       "2019-01-03      10  \n",
       "2019-01-04      34  \n",
       "2019-01-07       2  \n",
       "2019-01-08      54  \n",
       "...            ...  \n",
       "2022-03-04      47  \n",
       "2022-03-07    2516  \n",
       "2022-03-08    1813  \n",
       "2022-03-09    1813  \n",
       "2022-03-10   43810  \n",
       "\n",
       "[805 rows x 6 columns]"
      ]
     },
     "execution_count": 3,
     "metadata": {},
     "output_type": "execute_result"
    }
   ],
   "source": [
    "gold_df"
   ]
  },
  {
   "cell_type": "code",
   "execution_count": 4,
   "metadata": {},
   "outputs": [],
   "source": [
    "gold_df = gold_df.reset_index()"
   ]
  },
  {
   "cell_type": "code",
   "execution_count": 5,
   "metadata": {},
   "outputs": [],
   "source": [
    "train = gold_df[gold_df[\"Date\"]<\"2022-03-10\"]\n",
    "test = gold_df[gold_df[\"Date\"]>=\"2022-03-10\"]"
   ]
  },
  {
   "cell_type": "markdown",
   "metadata": {},
   "source": [
    "### Predictions\n",
    "\n",
    "Store your predictions in this dataframe"
   ]
  },
  {
   "cell_type": "code",
   "execution_count": 6,
   "metadata": {},
   "outputs": [
    {
     "data": {
      "text/html": [
       "<div>\n",
       "<style scoped>\n",
       "    .dataframe tbody tr th:only-of-type {\n",
       "        vertical-align: middle;\n",
       "    }\n",
       "\n",
       "    .dataframe tbody tr th {\n",
       "        vertical-align: top;\n",
       "    }\n",
       "\n",
       "    .dataframe thead th {\n",
       "        text-align: right;\n",
       "    }\n",
       "</style>\n",
       "<table border=\"1\" class=\"dataframe\">\n",
       "  <thead>\n",
       "    <tr style=\"text-align: right;\">\n",
       "      <th></th>\n",
       "      <th>Close_predict</th>\n",
       "    </tr>\n",
       "    <tr>\n",
       "      <th>Date</th>\n",
       "      <th></th>\n",
       "    </tr>\n",
       "  </thead>\n",
       "  <tbody>\n",
       "    <tr>\n",
       "      <th>2022-03-14</th>\n",
       "      <td>NaN</td>\n",
       "    </tr>\n",
       "    <tr>\n",
       "      <th>2022-03-15</th>\n",
       "      <td>NaN</td>\n",
       "    </tr>\n",
       "    <tr>\n",
       "      <th>2022-03-16</th>\n",
       "      <td>NaN</td>\n",
       "    </tr>\n",
       "    <tr>\n",
       "      <th>2022-03-17</th>\n",
       "      <td>NaN</td>\n",
       "    </tr>\n",
       "    <tr>\n",
       "      <th>2022-03-18</th>\n",
       "      <td>NaN</td>\n",
       "    </tr>\n",
       "  </tbody>\n",
       "</table>\n",
       "</div>"
      ],
      "text/plain": [
       "            Close_predict\n",
       "Date                     \n",
       "2022-03-14            NaN\n",
       "2022-03-15            NaN\n",
       "2022-03-16            NaN\n",
       "2022-03-17            NaN\n",
       "2022-03-18            NaN"
      ]
     },
     "execution_count": 6,
     "metadata": {},
     "output_type": "execute_result"
    }
   ],
   "source": [
    "# Test set\n",
    "days = pd.date_range('2022-03-14', '2022-03-18', freq='D')\n",
    "gold_predictions = pd.DataFrame({'Date': days,\n",
    "                                 'Close_predict': [np.NaN]*5})\n",
    "gold_predictions= gold_predictions.set_index('Date')\n",
    "gold_predictions"
   ]
  },
  {
   "cell_type": "code",
   "execution_count": 7,
   "metadata": {},
   "outputs": [
    {
     "data": {
      "text/html": [
       "<div>\n",
       "<style scoped>\n",
       "    .dataframe tbody tr th:only-of-type {\n",
       "        vertical-align: middle;\n",
       "    }\n",
       "\n",
       "    .dataframe tbody tr th {\n",
       "        vertical-align: top;\n",
       "    }\n",
       "\n",
       "    .dataframe thead th {\n",
       "        text-align: right;\n",
       "    }\n",
       "</style>\n",
       "<table border=\"1\" class=\"dataframe\">\n",
       "  <thead>\n",
       "    <tr style=\"text-align: right;\">\n",
       "      <th></th>\n",
       "      <th>Close_predict</th>\n",
       "    </tr>\n",
       "    <tr>\n",
       "      <th>Date</th>\n",
       "      <th></th>\n",
       "    </tr>\n",
       "  </thead>\n",
       "  <tbody>\n",
       "    <tr>\n",
       "      <th>2022-03-10</th>\n",
       "      <td>NaN</td>\n",
       "    </tr>\n",
       "    <tr>\n",
       "      <th>2022-03-11</th>\n",
       "      <td>NaN</td>\n",
       "    </tr>\n",
       "    <tr>\n",
       "      <th>2022-03-12</th>\n",
       "      <td>NaN</td>\n",
       "    </tr>\n",
       "    <tr>\n",
       "      <th>2022-03-13</th>\n",
       "      <td>NaN</td>\n",
       "    </tr>\n",
       "  </tbody>\n",
       "</table>\n",
       "</div>"
      ],
      "text/plain": [
       "            Close_predict\n",
       "Date                     \n",
       "2022-03-10            NaN\n",
       "2022-03-11            NaN\n",
       "2022-03-12            NaN\n",
       "2022-03-13            NaN"
      ]
     },
     "execution_count": 7,
     "metadata": {},
     "output_type": "execute_result"
    }
   ],
   "source": [
    "# Validation set\n",
    "days_valid = pd.date_range('2022-03-10', '2022-03-13', freq='D')\n",
    "gold_predictions = pd.DataFrame({'Date': days_valid,\n",
    "                                 'Close_predict': [np.NaN]*4})\n",
    "gold_predictions= gold_predictions.set_index('Date')\n",
    "gold_predictions"
   ]
  },
  {
   "cell_type": "markdown",
   "metadata": {},
   "source": [
    "### Evaluation"
   ]
  },
  {
   "cell_type": "markdown",
   "metadata": {},
   "source": [
    "Following in the footsteps of the [M4 time series competition](https://www.sciencedirect.com/science/article/pii/S0169207019301128), submissions will be evaluated based on the average of two metrics:\n",
    "1. Symmetric mean absolute percentage error (MAPE)\n",
    "\n",
    "$$\\text{sMAPE}=\\frac{2}{h}\\sum_{t=n+1}^{n+h}\\frac{|y_t-\\hat{y_t}|}{|y_t|+|\\hat{y_t}|}*100(\\%)$$\n",
    "\n",
    "2. Mean absolute scaled error (MASE)\n",
    "\n",
    "$$\\text{MASE}=\\frac{1}{h}\\frac{\\sum_{t=n+1}^{n+h}|y_t-\\hat{y_t}|}{\\frac{1}{n-1}\\sum_{t=2}^{n}|y_t-y_{t-1}|}$$\n",
    "\n",
    "Where $y_t$ is the value of the series at time $t$, $\\hat{y_t}$ is the forecast at time $t$, $h$ is the forecast horizon, $n$ is the number of training samples."
   ]
  },
  {
   "cell_type": "markdown",
   "metadata": {},
   "source": [
    "### Grading\n",
    "\n",
    "Accuracy: 30%\n",
    "Reasoning: 60%\n",
    "Visualizations: 10%\n",
    "\n",
    "In addition, I will also build my own model and submit it by Saturday. I am not gonna be able to see the test set until March 19th so I have no control over how the results will look like. If your model can beat mine, you get 5% bonus points"
   ]
  },
  {
   "cell_type": "markdown",
   "metadata": {},
   "source": [
    "### Prizes\n",
    "\n",
    "Based on accuracy"
   ]
  },
  {
   "cell_type": "markdown",
   "metadata": {},
   "source": [
    "- **1st**: 100% on Lab 1, Lab 2, and Lab 3.\n",
    "- **2nd**: 100% on Lab 1, Lab 2, and Lab 3.\n",
    "- **3rd**: 100% on Lab 3.\n"
   ]
  },
  {
   "cell_type": "markdown",
   "metadata": {},
   "source": [
    "## Your Code Goes Here\n",
    "<hr>"
   ]
  },
  {
   "cell_type": "code",
   "execution_count": 132,
   "metadata": {},
   "outputs": [],
   "source": [
    "def s_mape(y_pred, y):\n",
    "    cal = abs(y - y_pred) / (abs(y) - abs(y_pred))\n",
    "    return 2 * np.mean(cal) * 100\n",
    "\n",
    "\n",
    "# def mase(y_pred, y, h):\n",
    "#     num = np.sum(abs(y - y_pred))\n",
    "#     den = np.sum(abs())\n",
    "#     return (1 / h) * ( num / den)\n",
    "\n",
    "def _naive_forecasting(actual: np.ndarray, seasonality: int = 1):\n",
    "    return actual[:-seasonality]\n",
    "\n",
    "def mase(actual: np.ndarray, predicted: np.ndarray, seasonality: int = 1):\n",
    "    return mean_absolute_error(actual, predicted) / mean_absolute_error(actual[seasonality:], _naive_forecasting(actual, seasonality))\n",
    "\n",
    "    "
   ]
  },
  {
   "cell_type": "code",
   "execution_count": 9,
   "metadata": {},
   "outputs": [],
   "source": [
    "average = pd.DataFrame({'Date': days_valid, \n",
    "              \"Close_predict\": train['Close'].iloc[-5:].mean()})\n",
    "                        \n",
    "naive = pd.DataFrame({'Date': days_valid, \n",
    "              \"Close_predict\": train['Close'].iloc[-1]})\n",
    "        \n",
    "drift = pd.DataFrame({'Date': days_valid, \n",
    "              \"Close_predict\": train['Close'].iloc[-1]})\n",
    "slope = (train[\"Close\"].iloc[-1] - train[\"Close\"].iloc[-4:]) \n",
    "drift[\"Close_predict\"] += np.full_like(drift[\"Close_predict\"], slope).cumsum()"
   ]
  },
  {
   "cell_type": "code",
   "execution_count": 10,
   "metadata": {},
   "outputs": [
    {
     "data": {
      "text/html": [
       "<div>\n",
       "<style scoped>\n",
       "    .dataframe tbody tr th:only-of-type {\n",
       "        vertical-align: middle;\n",
       "    }\n",
       "\n",
       "    .dataframe tbody tr th {\n",
       "        vertical-align: top;\n",
       "    }\n",
       "\n",
       "    .dataframe thead th {\n",
       "        text-align: right;\n",
       "    }\n",
       "</style>\n",
       "<table border=\"1\" class=\"dataframe\">\n",
       "  <thead>\n",
       "    <tr style=\"text-align: right;\">\n",
       "      <th></th>\n",
       "      <th>Date</th>\n",
       "      <th>Close_predict</th>\n",
       "    </tr>\n",
       "  </thead>\n",
       "  <tbody>\n",
       "    <tr>\n",
       "      <th>0</th>\n",
       "      <td>2022-03-10</td>\n",
       "      <td>1983.880005</td>\n",
       "    </tr>\n",
       "    <tr>\n",
       "      <th>1</th>\n",
       "      <td>2022-03-11</td>\n",
       "      <td>1983.880005</td>\n",
       "    </tr>\n",
       "    <tr>\n",
       "      <th>2</th>\n",
       "      <td>2022-03-12</td>\n",
       "      <td>1983.880005</td>\n",
       "    </tr>\n",
       "    <tr>\n",
       "      <th>3</th>\n",
       "      <td>2022-03-13</td>\n",
       "      <td>1983.880005</td>\n",
       "    </tr>\n",
       "  </tbody>\n",
       "</table>\n",
       "</div>"
      ],
      "text/plain": [
       "        Date  Close_predict\n",
       "0 2022-03-10    1983.880005\n",
       "1 2022-03-11    1983.880005\n",
       "2 2022-03-12    1983.880005\n",
       "3 2022-03-13    1983.880005"
      ]
     },
     "execution_count": 10,
     "metadata": {},
     "output_type": "execute_result"
    }
   ],
   "source": [
    "average"
   ]
  },
  {
   "cell_type": "code",
   "execution_count": 11,
   "metadata": {},
   "outputs": [
    {
     "data": {
      "text/html": [
       "<div>\n",
       "<style scoped>\n",
       "    .dataframe tbody tr th:only-of-type {\n",
       "        vertical-align: middle;\n",
       "    }\n",
       "\n",
       "    .dataframe tbody tr th {\n",
       "        vertical-align: top;\n",
       "    }\n",
       "\n",
       "    .dataframe thead th {\n",
       "        text-align: right;\n",
       "    }\n",
       "</style>\n",
       "<table border=\"1\" class=\"dataframe\">\n",
       "  <thead>\n",
       "    <tr style=\"text-align: right;\">\n",
       "      <th></th>\n",
       "      <th>Date</th>\n",
       "      <th>Close_predict</th>\n",
       "    </tr>\n",
       "  </thead>\n",
       "  <tbody>\n",
       "    <tr>\n",
       "      <th>0</th>\n",
       "      <td>2022-03-10</td>\n",
       "      <td>1985.900024</td>\n",
       "    </tr>\n",
       "    <tr>\n",
       "      <th>1</th>\n",
       "      <td>2022-03-11</td>\n",
       "      <td>1985.900024</td>\n",
       "    </tr>\n",
       "    <tr>\n",
       "      <th>2</th>\n",
       "      <td>2022-03-12</td>\n",
       "      <td>1985.900024</td>\n",
       "    </tr>\n",
       "    <tr>\n",
       "      <th>3</th>\n",
       "      <td>2022-03-13</td>\n",
       "      <td>1985.900024</td>\n",
       "    </tr>\n",
       "  </tbody>\n",
       "</table>\n",
       "</div>"
      ],
      "text/plain": [
       "        Date  Close_predict\n",
       "0 2022-03-10    1985.900024\n",
       "1 2022-03-11    1985.900024\n",
       "2 2022-03-12    1985.900024\n",
       "3 2022-03-13    1985.900024"
      ]
     },
     "execution_count": 11,
     "metadata": {},
     "output_type": "execute_result"
    }
   ],
   "source": [
    "naive"
   ]
  },
  {
   "cell_type": "code",
   "execution_count": 12,
   "metadata": {},
   "outputs": [
    {
     "data": {
      "text/html": [
       "<div>\n",
       "<style scoped>\n",
       "    .dataframe tbody tr th:only-of-type {\n",
       "        vertical-align: middle;\n",
       "    }\n",
       "\n",
       "    .dataframe tbody tr th {\n",
       "        vertical-align: top;\n",
       "    }\n",
       "\n",
       "    .dataframe thead th {\n",
       "        text-align: right;\n",
       "    }\n",
       "</style>\n",
       "<table border=\"1\" class=\"dataframe\">\n",
       "  <thead>\n",
       "    <tr style=\"text-align: right;\">\n",
       "      <th></th>\n",
       "      <th>Date</th>\n",
       "      <th>Close_predict</th>\n",
       "    </tr>\n",
       "  </thead>\n",
       "  <tbody>\n",
       "    <tr>\n",
       "      <th>0</th>\n",
       "      <td>2022-03-10</td>\n",
       "      <td>2006.700073</td>\n",
       "    </tr>\n",
       "    <tr>\n",
       "      <th>1</th>\n",
       "      <td>2022-03-11</td>\n",
       "      <td>1998.700073</td>\n",
       "    </tr>\n",
       "    <tr>\n",
       "      <th>2</th>\n",
       "      <td>2022-03-12</td>\n",
       "      <td>1944.500122</td>\n",
       "    </tr>\n",
       "    <tr>\n",
       "      <th>3</th>\n",
       "      <td>2022-03-13</td>\n",
       "      <td>1944.500122</td>\n",
       "    </tr>\n",
       "  </tbody>\n",
       "</table>\n",
       "</div>"
      ],
      "text/plain": [
       "        Date  Close_predict\n",
       "0 2022-03-10    2006.700073\n",
       "1 2022-03-11    1998.700073\n",
       "2 2022-03-12    1944.500122\n",
       "3 2022-03-13    1944.500122"
      ]
     },
     "execution_count": 12,
     "metadata": {},
     "output_type": "execute_result"
    }
   ],
   "source": [
    "drift"
   ]
  },
  {
   "cell_type": "markdown",
   "metadata": {},
   "source": [
    "## ARIMA"
   ]
  },
  {
   "cell_type": "code",
   "execution_count": 13,
   "metadata": {},
   "outputs": [],
   "source": [
    "train_df = train[[\"Date\",\"Close\"]] "
   ]
  },
  {
   "cell_type": "code",
   "execution_count": 14,
   "metadata": {},
   "outputs": [
    {
     "name": "stdout",
     "output_type": "stream",
     "text": [
      "<class 'pandas.core.frame.DataFrame'>\n",
      "Int64Index: 804 entries, 0 to 803\n",
      "Data columns (total 2 columns):\n",
      " #   Column  Non-Null Count  Dtype         \n",
      "---  ------  --------------  -----         \n",
      " 0   Date    804 non-null    datetime64[ns]\n",
      " 1   Close   804 non-null    float64       \n",
      "dtypes: datetime64[ns](1), float64(1)\n",
      "memory usage: 18.8 KB\n"
     ]
    }
   ],
   "source": [
    "train_df.info()"
   ]
  },
  {
   "cell_type": "code",
   "execution_count": 15,
   "metadata": {},
   "outputs": [
    {
     "data": {
      "image/png": "[encoded data removed]",
      "text/plain": [
       "<Figure size 432x288 with 1 Axes>"
      ]
     },
     "metadata": {},
     "output_type": "display_data"
    }
   ],
   "source": [
    "plot_acf(train_df[\"Close\"]);"
   ]
  },
  {
   "cell_type": "code",
   "execution_count": 16,
   "metadata": {},
   "outputs": [
    {
     "name": "stderr",
     "output_type": "stream",
     "text": [
      "/Users/valliakella/opt/anaconda3/envs/mds574/lib/python3.9/site-packages/statsmodels/graphics/tsaplots.py:348: FutureWarning: The default method 'yw' can produce PACF values outside of the [-1,1] interval. After 0.13, the default will change tounadjusted Yule-Walker ('ywm'). You can use this method now by setting method='ywm'.\n",
      "  warnings.warn(\n"
     ]
    },
    {
     "data": {
      "image/png": "[encoded data removed]",
      "text/plain": [
       "<Figure size 432x288 with 1 Axes>"
      ]
     },
     "metadata": {},
     "output_type": "display_data"
    }
   ],
   "source": [
    "plot_pacf(train_df[\"Close\"]);"
   ]
  },
  {
   "cell_type": "code",
   "execution_count": 17,
   "metadata": {},
   "outputs": [
    {
     "data": {
      "text/plain": [
       "(-1.22367321315892,\n",
       " 0.6633301011255334,\n",
       " 7,\n",
       " 796,\n",
       " {'1%': -3.4385918508847646,\n",
       "  '5%': -2.865177791819505,\n",
       "  '10%': -2.568707096601096},\n",
       " 6748.952148989889)"
      ]
     },
     "execution_count": 17,
     "metadata": {},
     "output_type": "execute_result"
    }
   ],
   "source": [
    "adfuller(train_df[\"Close\"])"
   ]
  },
  {
   "cell_type": "code",
   "execution_count": 18,
   "metadata": {},
   "outputs": [],
   "source": [
    "train_df = train_df.diff().dropna()"
   ]
  },
  {
   "cell_type": "code",
   "execution_count": 19,
   "metadata": {},
   "outputs": [
    {
     "data": {
      "text/plain": [
       "(-13.20844974428365,\n",
       " 1.0590023754936545e-24,\n",
       " 6,\n",
       " 796,\n",
       " {'1%': -3.4385918508847646,\n",
       "  '5%': -2.865177791819505,\n",
       "  '10%': -2.568707096601096},\n",
       " 6740.773511770437)"
      ]
     },
     "execution_count": 19,
     "metadata": {},
     "output_type": "execute_result"
    }
   ],
   "source": [
    "adfuller(train_df[\"Close\"])"
   ]
  },
  {
   "cell_type": "code",
   "execution_count": 20,
   "metadata": {},
   "outputs": [
    {
     "data": {
      "image/png": "[encoded data removed]",
      "text/plain": [
       "<Figure size 432x288 with 1 Axes>"
      ]
     },
     "metadata": {},
     "output_type": "display_data"
    }
   ],
   "source": [
    "plot_acf(train_df[\"Close\"]);"
   ]
  },
  {
   "cell_type": "code",
   "execution_count": 21,
   "metadata": {},
   "outputs": [
    {
     "name": "stderr",
     "output_type": "stream",
     "text": [
      "/Users/valliakella/opt/anaconda3/envs/mds574/lib/python3.9/site-packages/statsmodels/graphics/tsaplots.py:348: FutureWarning: The default method 'yw' can produce PACF values outside of the [-1,1] interval. After 0.13, the default will change tounadjusted Yule-Walker ('ywm'). You can use this method now by setting method='ywm'.\n",
      "  warnings.warn(\n"
     ]
    },
    {
     "data": {
      "image/png": "[encoded data removed]",
      "text/plain": [
       "<Figure size 432x288 with 1 Axes>"
      ]
     },
     "metadata": {},
     "output_type": "display_data"
    }
   ],
   "source": [
    "plot_pacf(train_df[\"Close\"]);"
   ]
  },
  {
   "cell_type": "markdown",
   "metadata": {},
   "source": [
    "## ARIMA"
   ]
  },
  {
   "cell_type": "markdown",
   "metadata": {},
   "source": [
    "p = 1, d = 1, q = 0"
   ]
  },
  {
   "cell_type": "code",
   "execution_count": 22,
   "metadata": {},
   "outputs": [],
   "source": [
    "model = ARIMA(train[\"Close\"], order=(1,0,0))\n",
    "results = model.fit()"
   ]
  },
  {
   "cell_type": "code",
   "execution_count": 23,
   "metadata": {},
   "outputs": [
    {
     "data": {
      "text/html": [
       "<table class=\"simpletable\">\n",
       "<caption>SARIMAX Results</caption>\n",
       "<tr>\n",
       "  <th>Dep. Variable:</th>         <td>Close</td>      <th>  No. Observations:  </th>    <td>804</td>   \n",
       "</tr>\n",
       "<tr>\n",
       "  <th>Model:</th>            <td>ARIMA(1, 0, 0)</td>  <th>  Log Likelihood     </th> <td>-3465.240</td>\n",
       "</tr>\n",
       "<tr>\n",
       "  <th>Date:</th>            <td>Thu, 10 Mar 2022</td> <th>  AIC                </th> <td>6936.481</td> \n",
       "</tr>\n",
       "<tr>\n",
       "  <th>Time:</th>                <td>00:00:58</td>     <th>  BIC                </th> <td>6950.549</td> \n",
       "</tr>\n",
       "<tr>\n",
       "  <th>Sample:</th>                  <td>0</td>        <th>  HQIC               </th> <td>6941.884</td> \n",
       "</tr>\n",
       "<tr>\n",
       "  <th></th>                      <td> - 804</td>      <th>                     </th>     <td> </td>    \n",
       "</tr>\n",
       "<tr>\n",
       "  <th>Covariance Type:</th>        <td>opg</td>       <th>                     </th>     <td> </td>    \n",
       "</tr>\n",
       "</table>\n",
       "<table class=\"simpletable\">\n",
       "<tr>\n",
       "     <td></td>       <th>coef</th>     <th>std err</th>      <th>z</th>      <th>P>|z|</th>  <th>[0.025</th>    <th>0.975]</th>  \n",
       "</tr>\n",
       "<tr>\n",
       "  <th>const</th>  <td> 1666.3650</td> <td>  167.527</td> <td>    9.947</td> <td> 0.000</td> <td> 1338.018</td> <td> 1994.712</td>\n",
       "</tr>\n",
       "<tr>\n",
       "  <th>ar.L1</th>  <td>    0.9978</td> <td>    0.003</td> <td>  348.825</td> <td> 0.000</td> <td>    0.992</td> <td>    1.003</td>\n",
       "</tr>\n",
       "<tr>\n",
       "  <th>sigma2</th> <td>  322.2675</td> <td>    9.260</td> <td>   34.803</td> <td> 0.000</td> <td>  304.119</td> <td>  340.416</td>\n",
       "</tr>\n",
       "</table>\n",
       "<table class=\"simpletable\">\n",
       "<tr>\n",
       "  <th>Ljung-Box (L1) (Q):</th>     <td>0.16</td> <th>  Jarque-Bera (JB):  </th> <td>900.38</td>\n",
       "</tr>\n",
       "<tr>\n",
       "  <th>Prob(Q):</th>                <td>0.69</td> <th>  Prob(JB):          </th>  <td>0.00</td> \n",
       "</tr>\n",
       "<tr>\n",
       "  <th>Heteroskedasticity (H):</th> <td>2.60</td> <th>  Skew:              </th>  <td>-0.51</td>\n",
       "</tr>\n",
       "<tr>\n",
       "  <th>Prob(H) (two-sided):</th>    <td>0.00</td> <th>  Kurtosis:          </th>  <td>8.08</td> \n",
       "</tr>\n",
       "</table><br/><br/>Warnings:<br/>[1] Covariance matrix calculated using the outer product of gradients (complex-step)."
      ],
      "text/plain": [
       "<class 'statsmodels.iolib.summary.Summary'>\n",
       "\"\"\"\n",
       "                               SARIMAX Results                                \n",
       "==============================================================================\n",
       "Dep. Variable:                  Close   No. Observations:                  804\n",
       "Model:                 ARIMA(1, 0, 0)   Log Likelihood               -3465.240\n",
       "Date:                Thu, 10 Mar 2022   AIC                           6936.481\n",
       "Time:                        00:00:58   BIC                           6950.549\n",
       "Sample:                             0   HQIC                          6941.884\n",
       "                                - 804                                         \n",
       "Covariance Type:                  opg                                         \n",
       "==============================================================================\n",
       "                 coef    std err          z      P>|z|      [0.025      0.975]\n",
       "------------------------------------------------------------------------------\n",
       "const       1666.3650    167.527      9.947      0.000    1338.018    1994.712\n",
       "ar.L1          0.9978      0.003    348.825      0.000       0.992       1.003\n",
       "sigma2       322.2675      9.260     34.803      0.000     304.119     340.416\n",
       "===================================================================================\n",
       "Ljung-Box (L1) (Q):                   0.16   Jarque-Bera (JB):               900.38\n",
       "Prob(Q):                              0.69   Prob(JB):                         0.00\n",
       "Heteroskedasticity (H):               2.60   Skew:                            -0.51\n",
       "Prob(H) (two-sided):                  0.00   Kurtosis:                         8.08\n",
       "===================================================================================\n",
       "\n",
       "Warnings:\n",
       "[1] Covariance matrix calculated using the outer product of gradients (complex-step).\n",
       "\"\"\""
      ]
     },
     "execution_count": 23,
     "metadata": {},
     "output_type": "execute_result"
    }
   ],
   "source": [
    "results.summary()"
   ]
  },
  {
   "cell_type": "code",
   "execution_count": null,
   "metadata": {},
   "outputs": [],
   "source": []
  },
  {
   "cell_type": "markdown",
   "metadata": {},
   "source": [
    "## Machine Learning "
   ]
  },
  {
   "cell_type": "markdown",
   "metadata": {},
   "source": [
    "### Feature Engineering"
   ]
  },
  {
   "cell_type": "code",
   "execution_count": 25,
   "metadata": {},
   "outputs": [
    {
     "data": {
      "text/html": [
       "<div>\n",
       "<style scoped>\n",
       "    .dataframe tbody tr th:only-of-type {\n",
       "        vertical-align: middle;\n",
       "    }\n",
       "\n",
       "    .dataframe tbody tr th {\n",
       "        vertical-align: top;\n",
       "    }\n",
       "\n",
       "    .dataframe thead th {\n",
       "        text-align: right;\n",
       "    }\n",
       "</style>\n",
       "<table border=\"1\" class=\"dataframe\">\n",
       "  <thead>\n",
       "    <tr style=\"text-align: right;\">\n",
       "      <th></th>\n",
       "      <th>Date</th>\n",
       "      <th>Open</th>\n",
       "      <th>High</th>\n",
       "      <th>Low</th>\n",
       "      <th>Close</th>\n",
       "      <th>Adj Close</th>\n",
       "      <th>Volume</th>\n",
       "    </tr>\n",
       "  </thead>\n",
       "  <tbody>\n",
       "    <tr>\n",
       "      <th>0</th>\n",
       "      <td>2019-01-02</td>\n",
       "      <td>1286.000000</td>\n",
       "      <td>1286.000000</td>\n",
       "      <td>1277.599976</td>\n",
       "      <td>1281.000000</td>\n",
       "      <td>1281.000000</td>\n",
       "      <td>149</td>\n",
       "    </tr>\n",
       "    <tr>\n",
       "      <th>1</th>\n",
       "      <td>2019-01-03</td>\n",
       "      <td>1286.800049</td>\n",
       "      <td>1292.000000</td>\n",
       "      <td>1286.699951</td>\n",
       "      <td>1291.800049</td>\n",
       "      <td>1291.800049</td>\n",
       "      <td>10</td>\n",
       "    </tr>\n",
       "    <tr>\n",
       "      <th>2</th>\n",
       "      <td>2019-01-04</td>\n",
       "      <td>1294.199951</td>\n",
       "      <td>1294.199951</td>\n",
       "      <td>1275.300049</td>\n",
       "      <td>1282.699951</td>\n",
       "      <td>1282.699951</td>\n",
       "      <td>34</td>\n",
       "    </tr>\n",
       "    <tr>\n",
       "      <th>3</th>\n",
       "      <td>2019-01-07</td>\n",
       "      <td>1286.800049</td>\n",
       "      <td>1286.800049</td>\n",
       "      <td>1286.599976</td>\n",
       "      <td>1286.800049</td>\n",
       "      <td>1286.800049</td>\n",
       "      <td>2</td>\n",
       "    </tr>\n",
       "    <tr>\n",
       "      <th>4</th>\n",
       "      <td>2019-01-08</td>\n",
       "      <td>1280.500000</td>\n",
       "      <td>1283.199951</td>\n",
       "      <td>1278.199951</td>\n",
       "      <td>1283.199951</td>\n",
       "      <td>1283.199951</td>\n",
       "      <td>54</td>\n",
       "    </tr>\n",
       "    <tr>\n",
       "      <th>...</th>\n",
       "      <td>...</td>\n",
       "      <td>...</td>\n",
       "      <td>...</td>\n",
       "      <td>...</td>\n",
       "      <td>...</td>\n",
       "      <td>...</td>\n",
       "      <td>...</td>\n",
       "    </tr>\n",
       "    <tr>\n",
       "      <th>799</th>\n",
       "      <td>2022-03-03</td>\n",
       "      <td>1930.500000</td>\n",
       "      <td>1940.300049</td>\n",
       "      <td>1924.800049</td>\n",
       "      <td>1934.400024</td>\n",
       "      <td>1934.400024</td>\n",
       "      <td>122</td>\n",
       "    </tr>\n",
       "    <tr>\n",
       "      <th>800</th>\n",
       "      <td>2022-03-04</td>\n",
       "      <td>1937.000000</td>\n",
       "      <td>1970.900024</td>\n",
       "      <td>1935.599976</td>\n",
       "      <td>1965.099976</td>\n",
       "      <td>1965.099976</td>\n",
       "      <td>47</td>\n",
       "    </tr>\n",
       "    <tr>\n",
       "      <th>801</th>\n",
       "      <td>2022-03-07</td>\n",
       "      <td>1989.000000</td>\n",
       "      <td>2001.099976</td>\n",
       "      <td>1963.000000</td>\n",
       "      <td>1993.900024</td>\n",
       "      <td>1993.900024</td>\n",
       "      <td>2516</td>\n",
       "    </tr>\n",
       "    <tr>\n",
       "      <th>802</th>\n",
       "      <td>2022-03-08</td>\n",
       "      <td>1999.400024</td>\n",
       "      <td>2072.000000</td>\n",
       "      <td>1998.000000</td>\n",
       "      <td>2040.099976</td>\n",
       "      <td>2040.099976</td>\n",
       "      <td>1813</td>\n",
       "    </tr>\n",
       "    <tr>\n",
       "      <th>803</th>\n",
       "      <td>2022-03-09</td>\n",
       "      <td>2053.600098</td>\n",
       "      <td>2063.000000</td>\n",
       "      <td>1980.800049</td>\n",
       "      <td>1985.900024</td>\n",
       "      <td>1985.900024</td>\n",
       "      <td>1813</td>\n",
       "    </tr>\n",
       "  </tbody>\n",
       "</table>\n",
       "<p>804 rows × 7 columns</p>\n",
       "</div>"
      ],
      "text/plain": [
       "          Date         Open         High          Low        Close  \\\n",
       "0   2019-01-02  1286.000000  1286.000000  1277.599976  1281.000000   \n",
       "1   2019-01-03  1286.800049  1292.000000  1286.699951  1291.800049   \n",
       "2   2019-01-04  1294.199951  1294.199951  1275.300049  1282.699951   \n",
       "3   2019-01-07  1286.800049  1286.800049  1286.599976  1286.800049   \n",
       "4   2019-01-08  1280.500000  1283.199951  1278.199951  1283.199951   \n",
       "..         ...          ...          ...          ...          ...   \n",
       "799 2022-03-03  1930.500000  1940.300049  1924.800049  1934.400024   \n",
       "800 2022-03-04  1937.000000  1970.900024  1935.599976  1965.099976   \n",
       "801 2022-03-07  1989.000000  2001.099976  1963.000000  1993.900024   \n",
       "802 2022-03-08  1999.400024  2072.000000  1998.000000  2040.099976   \n",
       "803 2022-03-09  2053.600098  2063.000000  1980.800049  1985.900024   \n",
       "\n",
       "       Adj Close  Volume  \n",
       "0    1281.000000     149  \n",
       "1    1291.800049      10  \n",
       "2    1282.699951      34  \n",
       "3    1286.800049       2  \n",
       "4    1283.199951      54  \n",
       "..           ...     ...  \n",
       "799  1934.400024     122  \n",
       "800  1965.099976      47  \n",
       "801  1993.900024    2516  \n",
       "802  2040.099976    1813  \n",
       "803  1985.900024    1813  \n",
       "\n",
       "[804 rows x 7 columns]"
      ]
     },
     "execution_count": 25,
     "metadata": {},
     "output_type": "execute_result"
    }
   ],
   "source": [
    "train"
   ]
  },
  {
   "cell_type": "code",
   "execution_count": 81,
   "metadata": {},
   "outputs": [],
   "source": [
    "def feature_engineering(df):\n",
    "    df[\"rolling_mean\"] = df[\"Close\"].rolling(window=2).mean()\n",
    "    df[\"rolling_mean_2\"] = df[\"Close\"].rolling(window=3).mean()\n",
    "    df[\"lag_1\"] = df[\"Close\"].shift(1)\n",
    "    df[\"lag_2\"] = df[\"Close\"].shift(2)\n",
    "    df[\"High-Low\"] = df[\"High\"] - df[\"Low\"]\n",
    "    df[\"Open-High\"] = df[\"High\"] - df[\"Low\"]\n",
    "    df[\"Low-Open\"] = df[\"Open\"] - df[\"Low\"]\n",
    "  \n",
    "    return df"
   ]
  },
  {
   "cell_type": "code",
   "execution_count": 91,
   "metadata": {},
   "outputs": [
    {
     "data": {
      "text/plain": [
       "RandomForestRegressor()"
      ]
     },
     "execution_count": 91,
     "metadata": {},
     "output_type": "execute_result"
    }
   ],
   "source": [
    "train = feature_engineering(train)\n",
    "train = train.dropna()\n",
    "X_train = train.drop(columns=['Close', 'Adj Close'])\n",
    "y_train = train['Close']\n",
    "#lags = 2\n",
    "#last_observations = df.iloc[-1, :lag].to_numpy()\n",
    "model = RandomForestRegressor()\n",
    "model.fit(X_train, y_train)\n",
    "                        \n",
    "# #test_ump[\"Unemployed_pred_RF\"] = recursive_forecast(last_observations, model, n=len(test_ump.index)).ravel()"
   ]
  },
  {
   "cell_type": "code",
   "execution_count": 108,
   "metadata": {},
   "outputs": [
    {
     "data": {
      "text/plain": [
       "Index(['Open', 'High', 'Low', 'Volume', 'rolling_mean', 'rolling_mean_2',\n",
       "       'lag_1', 'lag_2', 'High-Low', 'Open-High', 'Low-Open'],\n",
       "      dtype='object')"
      ]
     },
     "execution_count": 108,
     "metadata": {},
     "output_type": "execute_result"
    }
   ],
   "source": [
    "X_train.columns"
   ]
  },
  {
   "cell_type": "code",
   "execution_count": 110,
   "metadata": {},
   "outputs": [],
   "source": [
    "test = feature_engineering(test)\n",
    "test[\"rolling_mean\"].iloc[0] = train[\"rolling_mean\"].iloc[-1]\n",
    "test[\"rolling_mean_2\"].iloc[0] = train[\"rolling_mean_2\"].iloc[-1]\n",
    "test[\"lag_1\"].iloc[0] = train[\"lag_1\"].iloc[-1]\n",
    "test[\"lag_2\"].iloc[0] = train[\"lag_2\"].iloc[-1]\n",
    "\n",
    "X_test = test.drop(columns=[\"Close\", \"Adj Close\"])\n",
    "y_test = test[\"Close\"]"
   ]
  },
  {
   "cell_type": "code",
   "execution_count": 111,
   "metadata": {},
   "outputs": [
    {
     "data": {
      "text/plain": [
       "Index(['Open', 'High', 'Low', 'Volume', 'rolling_mean', 'rolling_mean_2',\n",
       "       'lag_1', 'lag_2', 'High-Low', 'Open-High', 'Low-Open'],\n",
       "      dtype='object')"
      ]
     },
     "execution_count": 111,
     "metadata": {},
     "output_type": "execute_result"
    }
   ],
   "source": [
    "X_test.columns"
   ]
  },
  {
   "cell_type": "code",
   "execution_count": 120,
   "metadata": {},
   "outputs": [],
   "source": [
    "y_pred = model.predict(X_test)"
   ]
  },
  {
   "cell_type": "code",
   "execution_count": 121,
   "metadata": {},
   "outputs": [
    {
     "data": {
      "text/plain": [
       "array([2001.10899902])"
      ]
     },
     "execution_count": 121,
     "metadata": {},
     "output_type": "execute_result"
    }
   ],
   "source": [
    "y_pred"
   ]
  },
  {
   "cell_type": "code",
   "execution_count": 124,
   "metadata": {},
   "outputs": [],
   "source": [
    "y = y_test.values"
   ]
  },
  {
   "cell_type": "code",
   "execution_count": 125,
   "metadata": {},
   "outputs": [
    {
     "data": {
      "text/plain": [
       "array([1987.30004883])"
      ]
     },
     "execution_count": 125,
     "metadata": {},
     "output_type": "execute_result"
    }
   ],
   "source": [
    "y"
   ]
  },
  {
   "cell_type": "code",
   "execution_count": 126,
   "metadata": {},
   "outputs": [
    {
     "data": {
      "text/plain": [
       "200.0"
      ]
     },
     "execution_count": 126,
     "metadata": {},
     "output_type": "execute_result"
    }
   ],
   "source": [
    "s_mape(y, y_pred)"
   ]
  },
  {
   "cell_type": "code",
   "execution_count": 133,
   "metadata": {},
   "outputs": [
    {
     "ename": "ValueError",
     "evalue": "Found array with 0 sample(s) (shape=(0,)) while a minimum of 1 is required.",
     "output_type": "error",
     "traceback": [
      "\u001b[0;31m---------------------------------------------------------------------------\u001b[0m",
      "\u001b[0;31mValueError\u001b[0m                                Traceback (most recent call last)",
      "Input \u001b[0;32mIn [133]\u001b[0m, in \u001b[0;36m<module>\u001b[0;34m\u001b[0m\n\u001b[0;32m----> 1\u001b[0m \u001b[43mmase\u001b[49m\u001b[43m(\u001b[49m\u001b[43my\u001b[49m\u001b[43m,\u001b[49m\u001b[43m \u001b[49m\u001b[43my_pred\u001b[49m\u001b[43m)\u001b[49m\n",
      "Input \u001b[0;32mIn [132]\u001b[0m, in \u001b[0;36mmase\u001b[0;34m(actual, predicted, seasonality)\u001b[0m\n\u001b[1;32m     14\u001b[0m \u001b[38;5;28;01mdef\u001b[39;00m \u001b[38;5;21mmase\u001b[39m(actual: np\u001b[38;5;241m.\u001b[39mndarray, predicted: np\u001b[38;5;241m.\u001b[39mndarray, seasonality: \u001b[38;5;28mint\u001b[39m \u001b[38;5;241m=\u001b[39m \u001b[38;5;241m1\u001b[39m):\n\u001b[0;32m---> 15\u001b[0m     \u001b[38;5;28;01mreturn\u001b[39;00m mean_absolute_error(actual, predicted) \u001b[38;5;241m/\u001b[39m \u001b[43mmean_absolute_error\u001b[49m\u001b[43m(\u001b[49m\u001b[43mactual\u001b[49m\u001b[43m[\u001b[49m\u001b[43mseasonality\u001b[49m\u001b[43m:\u001b[49m\u001b[43m]\u001b[49m\u001b[43m,\u001b[49m\u001b[43m \u001b[49m\u001b[43m_naive_forecasting\u001b[49m\u001b[43m(\u001b[49m\u001b[43mactual\u001b[49m\u001b[43m,\u001b[49m\u001b[43m \u001b[49m\u001b[43mseasonality\u001b[49m\u001b[43m)\u001b[49m\u001b[43m)\u001b[49m\n",
      "File \u001b[0;32m~/opt/anaconda3/envs/mds574/lib/python3.9/site-packages/sklearn/metrics/_regression.py:191\u001b[0m, in \u001b[0;36mmean_absolute_error\u001b[0;34m(y_true, y_pred, sample_weight, multioutput)\u001b[0m\n\u001b[1;32m    135\u001b[0m \u001b[38;5;28;01mdef\u001b[39;00m \u001b[38;5;21mmean_absolute_error\u001b[39m(\n\u001b[1;32m    136\u001b[0m     y_true, y_pred, \u001b[38;5;241m*\u001b[39m, sample_weight\u001b[38;5;241m=\u001b[39m\u001b[38;5;28;01mNone\u001b[39;00m, multioutput\u001b[38;5;241m=\u001b[39m\u001b[38;5;124m\"\u001b[39m\u001b[38;5;124muniform_average\u001b[39m\u001b[38;5;124m\"\u001b[39m\n\u001b[1;32m    137\u001b[0m ):\n\u001b[1;32m    138\u001b[0m     \u001b[38;5;124;03m\"\"\"Mean absolute error regression loss.\u001b[39;00m\n\u001b[1;32m    139\u001b[0m \n\u001b[1;32m    140\u001b[0m \u001b[38;5;124;03m    Read more in the :ref:`User Guide <mean_absolute_error>`.\u001b[39;00m\n\u001b[0;32m   (...)\u001b[0m\n\u001b[1;32m    189\u001b[0m \u001b[38;5;124;03m    0.85...\u001b[39;00m\n\u001b[1;32m    190\u001b[0m \u001b[38;5;124;03m    \"\"\"\u001b[39;00m\n\u001b[0;32m--> 191\u001b[0m     y_type, y_true, y_pred, multioutput \u001b[38;5;241m=\u001b[39m \u001b[43m_check_reg_targets\u001b[49m\u001b[43m(\u001b[49m\n\u001b[1;32m    192\u001b[0m \u001b[43m        \u001b[49m\u001b[43my_true\u001b[49m\u001b[43m,\u001b[49m\u001b[43m \u001b[49m\u001b[43my_pred\u001b[49m\u001b[43m,\u001b[49m\u001b[43m \u001b[49m\u001b[43mmultioutput\u001b[49m\n\u001b[1;32m    193\u001b[0m \u001b[43m    \u001b[49m\u001b[43m)\u001b[49m\n\u001b[1;32m    194\u001b[0m     check_consistent_length(y_true, y_pred, sample_weight)\n\u001b[1;32m    195\u001b[0m     output_errors \u001b[38;5;241m=\u001b[39m np\u001b[38;5;241m.\u001b[39maverage(np\u001b[38;5;241m.\u001b[39mabs(y_pred \u001b[38;5;241m-\u001b[39m y_true), weights\u001b[38;5;241m=\u001b[39msample_weight, axis\u001b[38;5;241m=\u001b[39m\u001b[38;5;241m0\u001b[39m)\n",
      "File \u001b[0;32m~/opt/anaconda3/envs/mds574/lib/python3.9/site-packages/sklearn/metrics/_regression.py:95\u001b[0m, in \u001b[0;36m_check_reg_targets\u001b[0;34m(y_true, y_pred, multioutput, dtype)\u001b[0m\n\u001b[1;32m     61\u001b[0m \u001b[38;5;124;03m\"\"\"Check that y_true and y_pred belong to the same regression task.\u001b[39;00m\n\u001b[1;32m     62\u001b[0m \n\u001b[1;32m     63\u001b[0m \u001b[38;5;124;03mParameters\u001b[39;00m\n\u001b[0;32m   (...)\u001b[0m\n\u001b[1;32m     92\u001b[0m \u001b[38;5;124;03m    the dtype argument passed to check_array.\u001b[39;00m\n\u001b[1;32m     93\u001b[0m \u001b[38;5;124;03m\"\"\"\u001b[39;00m\n\u001b[1;32m     94\u001b[0m check_consistent_length(y_true, y_pred)\n\u001b[0;32m---> 95\u001b[0m y_true \u001b[38;5;241m=\u001b[39m \u001b[43mcheck_array\u001b[49m\u001b[43m(\u001b[49m\u001b[43my_true\u001b[49m\u001b[43m,\u001b[49m\u001b[43m \u001b[49m\u001b[43mensure_2d\u001b[49m\u001b[38;5;241;43m=\u001b[39;49m\u001b[38;5;28;43;01mFalse\u001b[39;49;00m\u001b[43m,\u001b[49m\u001b[43m \u001b[49m\u001b[43mdtype\u001b[49m\u001b[38;5;241;43m=\u001b[39;49m\u001b[43mdtype\u001b[49m\u001b[43m)\u001b[49m\n\u001b[1;32m     96\u001b[0m y_pred \u001b[38;5;241m=\u001b[39m check_array(y_pred, ensure_2d\u001b[38;5;241m=\u001b[39m\u001b[38;5;28;01mFalse\u001b[39;00m, dtype\u001b[38;5;241m=\u001b[39mdtype)\n\u001b[1;32m     98\u001b[0m \u001b[38;5;28;01mif\u001b[39;00m y_true\u001b[38;5;241m.\u001b[39mndim \u001b[38;5;241m==\u001b[39m \u001b[38;5;241m1\u001b[39m:\n",
      "File \u001b[0;32m~/opt/anaconda3/envs/mds574/lib/python3.9/site-packages/sklearn/utils/validation.py:805\u001b[0m, in \u001b[0;36mcheck_array\u001b[0;34m(array, accept_sparse, accept_large_sparse, dtype, order, copy, force_all_finite, ensure_2d, allow_nd, ensure_min_samples, ensure_min_features, estimator)\u001b[0m\n\u001b[1;32m    803\u001b[0m     n_samples \u001b[38;5;241m=\u001b[39m _num_samples(array)\n\u001b[1;32m    804\u001b[0m     \u001b[38;5;28;01mif\u001b[39;00m n_samples \u001b[38;5;241m<\u001b[39m ensure_min_samples:\n\u001b[0;32m--> 805\u001b[0m         \u001b[38;5;28;01mraise\u001b[39;00m \u001b[38;5;167;01mValueError\u001b[39;00m(\n\u001b[1;32m    806\u001b[0m             \u001b[38;5;124m\"\u001b[39m\u001b[38;5;124mFound array with \u001b[39m\u001b[38;5;132;01m%d\u001b[39;00m\u001b[38;5;124m sample(s) (shape=\u001b[39m\u001b[38;5;132;01m%s\u001b[39;00m\u001b[38;5;124m) while a\u001b[39m\u001b[38;5;124m\"\u001b[39m\n\u001b[1;32m    807\u001b[0m             \u001b[38;5;124m\"\u001b[39m\u001b[38;5;124m minimum of \u001b[39m\u001b[38;5;132;01m%d\u001b[39;00m\u001b[38;5;124m is required\u001b[39m\u001b[38;5;132;01m%s\u001b[39;00m\u001b[38;5;124m.\u001b[39m\u001b[38;5;124m\"\u001b[39m\n\u001b[1;32m    808\u001b[0m             \u001b[38;5;241m%\u001b[39m (n_samples, array\u001b[38;5;241m.\u001b[39mshape, ensure_min_samples, context)\n\u001b[1;32m    809\u001b[0m         )\n\u001b[1;32m    811\u001b[0m \u001b[38;5;28;01mif\u001b[39;00m ensure_min_features \u001b[38;5;241m>\u001b[39m \u001b[38;5;241m0\u001b[39m \u001b[38;5;129;01mand\u001b[39;00m array\u001b[38;5;241m.\u001b[39mndim \u001b[38;5;241m==\u001b[39m \u001b[38;5;241m2\u001b[39m:\n\u001b[1;32m    812\u001b[0m     n_features \u001b[38;5;241m=\u001b[39m array\u001b[38;5;241m.\u001b[39mshape[\u001b[38;5;241m1\u001b[39m]\n",
      "\u001b[0;31mValueError\u001b[0m: Found array with 0 sample(s) (shape=(0,)) while a minimum of 1 is required."
     ]
    }
   ],
   "source": [
    "mase(y, y_pred)"
   ]
  },
  {
   "cell_type": "markdown",
   "metadata": {},
   "source": [
    "## LSTM"
   ]
  },
  {
   "cell_type": "code",
   "execution_count": null,
   "metadata": {},
   "outputs": [],
   "source": []
  }
 ],
 "metadata": {
  "accelerator": "GPU",
  "colab": {
   "name": "lab4.ipynb",
   "provenance": [],
   "version": "0.3.2"
  },
  "kernelspec": {
   "display_name": "Python [conda env:mds574]",
   "language": "python",
   "name": "conda-env-mds574-py"
  },
  "language_info": {
   "codemirror_mode": {
    "name": "ipython",
    "version": 3
   },
   "file_extension": ".py",
   "mimetype": "text/x-python",
   "name": "python",
   "nbconvert_exporter": "python",
   "pygments_lexer": "ipython3",
   "version": "3.9.10"
  },
  "toc": {
   "base_numbering": 1,
   "nav_menu": {},
   "number_sections": false,
   "sideBar": true,
   "skip_h1_title": true,
   "title_cell": "Table of Contents",
   "title_sidebar": "Contents",
   "toc_cell": true,
   "toc_position": {},
   "toc_section_display": true,
   "toc_window_display": true
  }
 },
 "nbformat": 4,
 "nbformat_minor": 4
}
